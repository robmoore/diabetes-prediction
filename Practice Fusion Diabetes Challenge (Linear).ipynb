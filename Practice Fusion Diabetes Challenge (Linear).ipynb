{
 "cells": [
  {
   "cell_type": "code",
   "execution_count": 50,
   "metadata": {},
   "outputs": [],
   "source": [
    "%%bash\n",
    "# These files appear to be from the original competition (that is unmodified)\n",
    "wget -q -c https://raw.githubusercontent.com/yasminlucero/Kaggle/master/Data/compDataAsSQLiteDB/compData.db\n",
    "wget -q -c https://raw.githubusercontent.com/yasminlucero/Kaggle/master/Data/compDataAsSQLiteDB/compData.sql"
   ]
  },
  {
   "cell_type": "code",
   "execution_count": 51,
   "metadata": {},
   "outputs": [],
   "source": [
    "%matplotlib inline\n",
    "import seaborn as sns\n",
    "\n",
    "import sqlite3\n",
    "import pandas as pd\n",
    "import numpy as np\n",
    "\n",
    "from patsy import dmatrices\n",
    "\n",
    "from contextlib import closing\n",
    "\n",
    "from sklearn.model_selection import train_test_split\n",
    "from sklearn.model_selection import cross_val_score\n",
    "from sklearn.linear_model import LogisticRegression\n",
    "from sklearn import metrics"
   ]
  },
  {
   "cell_type": "code",
   "execution_count": 52,
   "metadata": {},
   "outputs": [],
   "source": [
    "seed = 13431\n",
    "np.random.seed(seed)\n",
    "\n",
    "with closing(sqlite3.connect('file:compData.db?mode=ro', uri=True)) as conn:    \n",
    "    patientTranscripts = pd.read_sql_query(\"\"\"\n",
    "    SELECT PatientGuid,\n",
    "        dmIndicator,\n",
    "        Gender,\n",
    "        YearOfBirth,\n",
    "        VisitYear,\n",
    "        CASE WHEN BMI = 0 THEN NULL ELSE BMI END AS BMI,\n",
    "        CASE WHEN SystolicBP = 'NULL' THEN NULL ELSE SystolicBP END AS SystolicBP,\n",
    "        CASE WHEN DiastolicBP = 'NULL' THEN NULL ELSE DiastolicBP END AS DiastolicBP\n",
    "    FROM training_patientTranscript\n",
    "\"\"\", conn)\n",
    "  \n",
    "    patientIcd9Codes = pd.read_sql_query(\"\"\"\n",
    "SELECT PatientGuid, ICD9Code\n",
    "FROM training_diagnosis \n",
    "\"\"\", conn)\n",
    "    \n",
    "    # Note: Need to use training_patientSmokingStatus directly rather than patient_smoking\n",
    "    # as the NIST codes used translate to multiple statuses\n",
    "    patientSmokingStatus = pd.read_sql_query(\"\"\"\n",
    "SELECT PatientGuid, \n",
    "    EffectiveYear,\n",
    "    SmokingStatusGuid\n",
    "FROM training_patientSmokingStatus\n",
    "\"\"\", conn)\n",
    "    \n",
    "    preDbMatch = pd.read_sql_query(\"\"\"\n",
    "SELECT DISTINCT PatientGuid\n",
    "FROM training_diagnosis \n",
    "WHERE ICD9Code IN ('790.29','648.83')\n",
    "\"\"\", conn)"
   ]
  },
  {
   "cell_type": "code",
   "execution_count": 53,
   "metadata": {},
   "outputs": [],
   "source": [
    "def calcAge(yearOfBirth):\n",
    "    return 2012 - yearOfBirth\n",
    "\n",
    "def isPreDB(patientGuid):\n",
    "   return patientGuid in preDbMatch.PatientGuid.values\n",
    " \n",
    "def isSmoker(ps, patientGuid):\n",
    "    return patientGuid in ps.index and ps.loc[patientGuid, 'SmokingStatusGuid'] in ('FA2B7AE4-4D14-4768-A8C7-55B5F0CDF4AF', \n",
    "                                                                                    '02116D5A-F26C-4A48-9A11-75AC21BC4FD3', \\\n",
    "                                                                                    'DD01E545-D7AF-4F00-B248-9FD40010D81D', \\\n",
    "                                                                                    'FCD437AA-0451-4D8A-9396-B6F19D8B25E8', \\\n",
    "                                                                                    '2548BD83-03AE-4287-A578-FA170F39E32F')\n",
    "\n",
    "def processPatientTranscripts(pt):\n",
    "    pt = pt.sort_values(['VisitYear'],  ascending=False)\n",
    "    pt = pt.groupby('PatientGuid', as_index=False).agg(lambda x: np.nan if x.first_valid_index() is None else x.loc[x.first_valid_index()])\n",
    "\n",
    "    pt['dmIndicator'] = pt['dmIndicator'].astype('bool')\n",
    "    pt['Gender'] = pt['Gender'].astype('category')\n",
    "    pt['Age'] = pt.apply(lambda row: calcAge(row.YearOfBirth), axis=1)\n",
    "    pt['PreDB'] = pt.apply(lambda row: isPreDB(row.PatientGuid), axis=1)\n",
    "    \n",
    "    pt.drop(['VisitYear', 'YearOfBirth'], axis=1, inplace=True)\n",
    "    pt.dropna(how='any', inplace=True)\n",
    "    \n",
    "    pt['SystolicBP'] = pt['SystolicBP'].astype('int')\n",
    "    pt['DiastolicBP'] = pt['DiastolicBP'].astype('int')\n",
    "    \n",
    "    return pt\n",
    "\n",
    "def processPatientSmoking(ps):\n",
    "    ps = ps.sort_values(['EffectiveYear'], ascending=False)\n",
    "    ps = ps.groupby('PatientGuid').agg(lambda x: np.nan if x.first_valid_index() is None else x.loc[x.first_valid_index()])\n",
    "    \n",
    "    ps['Smoker'] = ps.apply(lambda row: isSmoker(ps, row.name), axis=1)\n",
    "    \n",
    "    ps.drop(['EffectiveYear', 'SmokingStatusGuid'], axis=1, inplace=True)\n",
    "    ps.dropna(how='any', inplace=True)\n",
    "    ps.reset_index(level=0, inplace=True)\n",
    "\n",
    "    return ps\n"
   ]
  },
  {
   "cell_type": "code",
   "execution_count": 54,
   "metadata": {},
   "outputs": [
    {
     "data": {
      "text/html": [
       "<div>\n",
       "<style scoped>\n",
       "    .dataframe tbody tr th:only-of-type {\n",
       "        vertical-align: middle;\n",
       "    }\n",
       "\n",
       "    .dataframe tbody tr th {\n",
       "        vertical-align: top;\n",
       "    }\n",
       "\n",
       "    .dataframe thead th {\n",
       "        text-align: right;\n",
       "    }\n",
       "</style>\n",
       "<table border=\"1\" class=\"dataframe\">\n",
       "  <thead>\n",
       "    <tr style=\"text-align: right;\">\n",
       "      <th></th>\n",
       "      <th>PatientGuid</th>\n",
       "      <th>dmIndicator</th>\n",
       "      <th>Gender</th>\n",
       "      <th>BMI</th>\n",
       "      <th>SystolicBP</th>\n",
       "      <th>DiastolicBP</th>\n",
       "      <th>Age</th>\n",
       "      <th>PreDB</th>\n",
       "    </tr>\n",
       "  </thead>\n",
       "  <tbody>\n",
       "    <tr>\n",
       "      <th>0</th>\n",
       "      <td>00023761-9D8D-445B-874C-2424CC7CF620</td>\n",
       "      <td>False</td>\n",
       "      <td>M</td>\n",
       "      <td>27.670</td>\n",
       "      <td>122</td>\n",
       "      <td>76</td>\n",
       "      <td>56</td>\n",
       "      <td>False</td>\n",
       "    </tr>\n",
       "    <tr>\n",
       "      <th>1</th>\n",
       "      <td>0005D9BD-0247-4F02-B7EE-7C1B44825FA1</td>\n",
       "      <td>False</td>\n",
       "      <td>F</td>\n",
       "      <td>22.463</td>\n",
       "      <td>128</td>\n",
       "      <td>82</td>\n",
       "      <td>60</td>\n",
       "      <td>False</td>\n",
       "    </tr>\n",
       "    <tr>\n",
       "      <th>2</th>\n",
       "      <td>000B4862-7CE7-4EC5-8043-A97FCD74BD78</td>\n",
       "      <td>False</td>\n",
       "      <td>F</td>\n",
       "      <td>16.654</td>\n",
       "      <td>80</td>\n",
       "      <td>60</td>\n",
       "      <td>87</td>\n",
       "      <td>False</td>\n",
       "    </tr>\n",
       "    <tr>\n",
       "      <th>3</th>\n",
       "      <td>00110ABC-DAB9-49E3-A1C8-88BBF8D58109</td>\n",
       "      <td>False</td>\n",
       "      <td>M</td>\n",
       "      <td>28.190</td>\n",
       "      <td>125</td>\n",
       "      <td>75</td>\n",
       "      <td>42</td>\n",
       "      <td>False</td>\n",
       "    </tr>\n",
       "    <tr>\n",
       "      <th>4</th>\n",
       "      <td>002667F4-B9A3-4DE2-875F-8034DD637865</td>\n",
       "      <td>False</td>\n",
       "      <td>F</td>\n",
       "      <td>19.388</td>\n",
       "      <td>112</td>\n",
       "      <td>80</td>\n",
       "      <td>84</td>\n",
       "      <td>False</td>\n",
       "    </tr>\n",
       "  </tbody>\n",
       "</table>\n",
       "</div>"
      ],
      "text/plain": [
       "                            PatientGuid  dmIndicator Gender     BMI  \\\n",
       "0  00023761-9D8D-445B-874C-2424CC7CF620        False      M  27.670   \n",
       "1  0005D9BD-0247-4F02-B7EE-7C1B44825FA1        False      F  22.463   \n",
       "2  000B4862-7CE7-4EC5-8043-A97FCD74BD78        False      F  16.654   \n",
       "3  00110ABC-DAB9-49E3-A1C8-88BBF8D58109        False      M  28.190   \n",
       "4  002667F4-B9A3-4DE2-875F-8034DD637865        False      F  19.388   \n",
       "\n",
       "   SystolicBP  DiastolicBP  Age  PreDB  \n",
       "0         122           76   56  False  \n",
       "1         128           82   60  False  \n",
       "2          80           60   87  False  \n",
       "3         125           75   42  False  \n",
       "4         112           80   84  False  "
      ]
     },
     "execution_count": 54,
     "metadata": {},
     "output_type": "execute_result"
    }
   ],
   "source": [
    "transcripts = processPatientTranscripts(patientTranscripts)\n",
    "transcripts.head()"
   ]
  },
  {
   "cell_type": "code",
   "execution_count": 55,
   "metadata": {},
   "outputs": [
    {
     "data": {
      "text/html": [
       "<div>\n",
       "<style scoped>\n",
       "    .dataframe tbody tr th:only-of-type {\n",
       "        vertical-align: middle;\n",
       "    }\n",
       "\n",
       "    .dataframe tbody tr th {\n",
       "        vertical-align: top;\n",
       "    }\n",
       "\n",
       "    .dataframe thead th {\n",
       "        text-align: right;\n",
       "    }\n",
       "</style>\n",
       "<table border=\"1\" class=\"dataframe\">\n",
       "  <thead>\n",
       "    <tr style=\"text-align: right;\">\n",
       "      <th></th>\n",
       "      <th>PatientGuid</th>\n",
       "      <th>Smoker</th>\n",
       "    </tr>\n",
       "  </thead>\n",
       "  <tbody>\n",
       "    <tr>\n",
       "      <th>0</th>\n",
       "      <td>000B4862-7CE7-4EC5-8043-A97FCD74BD78</td>\n",
       "      <td>False</td>\n",
       "    </tr>\n",
       "    <tr>\n",
       "      <th>1</th>\n",
       "      <td>0029BBC8-7C22-4444-9F44-87BEF05FE033</td>\n",
       "      <td>False</td>\n",
       "    </tr>\n",
       "    <tr>\n",
       "      <th>2</th>\n",
       "      <td>003CEE1F-5BF5-4171-9284-F5464EC12D41</td>\n",
       "      <td>False</td>\n",
       "    </tr>\n",
       "    <tr>\n",
       "      <th>3</th>\n",
       "      <td>005F61C9-E537-4AD2-B39C-37F25891F33A</td>\n",
       "      <td>False</td>\n",
       "    </tr>\n",
       "    <tr>\n",
       "      <th>4</th>\n",
       "      <td>0063B34F-C2C4-423A-A144-E51F7149253A</td>\n",
       "      <td>False</td>\n",
       "    </tr>\n",
       "  </tbody>\n",
       "</table>\n",
       "</div>"
      ],
      "text/plain": [
       "                            PatientGuid  Smoker\n",
       "0  000B4862-7CE7-4EC5-8043-A97FCD74BD78   False\n",
       "1  0029BBC8-7C22-4444-9F44-87BEF05FE033   False\n",
       "2  003CEE1F-5BF5-4171-9284-F5464EC12D41   False\n",
       "3  005F61C9-E537-4AD2-B39C-37F25891F33A   False\n",
       "4  0063B34F-C2C4-423A-A144-E51F7149253A   False"
      ]
     },
     "execution_count": 55,
     "metadata": {},
     "output_type": "execute_result"
    }
   ],
   "source": [
    "smokingStatus = processPatientSmoking(patientSmokingStatus)\n",
    "smokingStatus.head()"
   ]
  },
  {
   "cell_type": "code",
   "execution_count": 56,
   "metadata": {},
   "outputs": [
    {
     "data": {
      "text/html": [
       "<div>\n",
       "<style scoped>\n",
       "    .dataframe tbody tr th:only-of-type {\n",
       "        vertical-align: middle;\n",
       "    }\n",
       "\n",
       "    .dataframe tbody tr th {\n",
       "        vertical-align: top;\n",
       "    }\n",
       "\n",
       "    .dataframe thead th {\n",
       "        text-align: right;\n",
       "    }\n",
       "</style>\n",
       "<table border=\"1\" class=\"dataframe\">\n",
       "  <thead>\n",
       "    <tr style=\"text-align: right;\">\n",
       "      <th></th>\n",
       "      <th>dmIndicator</th>\n",
       "      <th>Gender</th>\n",
       "      <th>BMI</th>\n",
       "      <th>SystolicBP</th>\n",
       "      <th>DiastolicBP</th>\n",
       "      <th>Age</th>\n",
       "      <th>PreDB</th>\n",
       "      <th>Smoker</th>\n",
       "    </tr>\n",
       "  </thead>\n",
       "  <tbody>\n",
       "    <tr>\n",
       "      <th>0</th>\n",
       "      <td>False</td>\n",
       "      <td>M</td>\n",
       "      <td>27.670</td>\n",
       "      <td>122</td>\n",
       "      <td>76</td>\n",
       "      <td>56</td>\n",
       "      <td>False</td>\n",
       "      <td>True</td>\n",
       "    </tr>\n",
       "    <tr>\n",
       "      <th>1</th>\n",
       "      <td>False</td>\n",
       "      <td>F</td>\n",
       "      <td>22.463</td>\n",
       "      <td>128</td>\n",
       "      <td>82</td>\n",
       "      <td>60</td>\n",
       "      <td>False</td>\n",
       "      <td>True</td>\n",
       "    </tr>\n",
       "    <tr>\n",
       "      <th>2</th>\n",
       "      <td>False</td>\n",
       "      <td>F</td>\n",
       "      <td>16.654</td>\n",
       "      <td>80</td>\n",
       "      <td>60</td>\n",
       "      <td>87</td>\n",
       "      <td>False</td>\n",
       "      <td>False</td>\n",
       "    </tr>\n",
       "    <tr>\n",
       "      <th>3</th>\n",
       "      <td>False</td>\n",
       "      <td>M</td>\n",
       "      <td>28.190</td>\n",
       "      <td>125</td>\n",
       "      <td>75</td>\n",
       "      <td>42</td>\n",
       "      <td>False</td>\n",
       "      <td>True</td>\n",
       "    </tr>\n",
       "    <tr>\n",
       "      <th>4</th>\n",
       "      <td>False</td>\n",
       "      <td>F</td>\n",
       "      <td>19.388</td>\n",
       "      <td>112</td>\n",
       "      <td>80</td>\n",
       "      <td>84</td>\n",
       "      <td>False</td>\n",
       "      <td>True</td>\n",
       "    </tr>\n",
       "  </tbody>\n",
       "</table>\n",
       "</div>"
      ],
      "text/plain": [
       "   dmIndicator Gender     BMI  SystolicBP  DiastolicBP  Age  PreDB  Smoker\n",
       "0        False      M  27.670         122           76   56  False    True\n",
       "1        False      F  22.463         128           82   60  False    True\n",
       "2        False      F  16.654          80           60   87  False   False\n",
       "3        False      M  28.190         125           75   42  False    True\n",
       "4        False      F  19.388         112           80   84  False    True"
      ]
     },
     "execution_count": 56,
     "metadata": {},
     "output_type": "execute_result"
    }
   ],
   "source": [
    "patients = pd.merge(transcripts, smokingStatus, on='PatientGuid', how='left')\n",
    "patients[['Smoker']] = patients[['Smoker']].fillna(True)\n",
    "patients.drop(['PatientGuid'], axis=1, inplace=True)\n",
    "patients.head()"
   ]
  },
  {
   "cell_type": "code",
   "execution_count": 57,
   "metadata": {},
   "outputs": [
    {
     "name": "stdout",
     "output_type": "stream",
     "text": [
      "Index(['Intercept', 'C(Gender)[T.M]', 'PreDB[T.True]', 'Smoker[T.True]', 'BMI',\n",
      "       'SystolicBP', 'DiastolicBP', 'Age'],\n",
      "      dtype='object')\n"
     ]
    }
   ],
   "source": [
    "y, X = dmatrices('dmIndicator ~ C(Gender) + BMI + SystolicBP + DiastolicBP + Age + PreDB + Smoker',\n",
    "                  patients, return_type=\"dataframe\")\n",
    "print(X.columns)"
   ]
  },
  {
   "cell_type": "code",
   "execution_count": 58,
   "metadata": {},
   "outputs": [],
   "source": [
    "y = y.iloc[:, 1].astype('bool')"
   ]
  },
  {
   "cell_type": "code",
   "execution_count": 59,
   "metadata": {},
   "outputs": [
    {
     "data": {
      "text/plain": [
       "0.80567005127174018"
      ]
     },
     "execution_count": 59,
     "metadata": {},
     "output_type": "execute_result"
    }
   ],
   "source": [
    "model = LogisticRegression()\n",
    "model = model.fit(X, y)\n",
    "\n",
    "model.score(X, y)"
   ]
  },
  {
   "cell_type": "code",
   "execution_count": 60,
   "metadata": {},
   "outputs": [
    {
     "data": {
      "text/plain": [
       "0.19141449683321604"
      ]
     },
     "execution_count": 60,
     "metadata": {},
     "output_type": "execute_result"
    }
   ],
   "source": [
    "y.mean()"
   ]
  },
  {
   "cell_type": "code",
   "execution_count": 61,
   "metadata": {},
   "outputs": [
    {
     "data": {
      "text/html": [
       "<div>\n",
       "<style scoped>\n",
       "    .dataframe tbody tr th:only-of-type {\n",
       "        vertical-align: middle;\n",
       "    }\n",
       "\n",
       "    .dataframe tbody tr th {\n",
       "        vertical-align: top;\n",
       "    }\n",
       "\n",
       "    .dataframe thead th {\n",
       "        text-align: right;\n",
       "    }\n",
       "</style>\n",
       "<table border=\"1\" class=\"dataframe\">\n",
       "  <thead>\n",
       "    <tr style=\"text-align: right;\">\n",
       "      <th></th>\n",
       "      <th>0</th>\n",
       "      <th>1</th>\n",
       "    </tr>\n",
       "  </thead>\n",
       "  <tbody>\n",
       "    <tr>\n",
       "      <th>0</th>\n",
       "      <td>Intercept</td>\n",
       "      <td>[-2.39786148003]</td>\n",
       "    </tr>\n",
       "    <tr>\n",
       "      <th>1</th>\n",
       "      <td>C(Gender)[T.M]</td>\n",
       "      <td>[0.370198194892]</td>\n",
       "    </tr>\n",
       "    <tr>\n",
       "      <th>2</th>\n",
       "      <td>PreDB[T.True]</td>\n",
       "      <td>[0.577498774058]</td>\n",
       "    </tr>\n",
       "    <tr>\n",
       "      <th>3</th>\n",
       "      <td>Smoker[T.True]</td>\n",
       "      <td>[-0.0948212633921]</td>\n",
       "    </tr>\n",
       "    <tr>\n",
       "      <th>4</th>\n",
       "      <td>BMI</td>\n",
       "      <td>[3.54883008786e-05]</td>\n",
       "    </tr>\n",
       "    <tr>\n",
       "      <th>5</th>\n",
       "      <td>SystolicBP</td>\n",
       "      <td>[0.0178644777476]</td>\n",
       "    </tr>\n",
       "    <tr>\n",
       "      <th>6</th>\n",
       "      <td>DiastolicBP</td>\n",
       "      <td>[-0.0159035868074]</td>\n",
       "    </tr>\n",
       "    <tr>\n",
       "      <th>7</th>\n",
       "      <td>Age</td>\n",
       "      <td>[0.0368764450791]</td>\n",
       "    </tr>\n",
       "  </tbody>\n",
       "</table>\n",
       "</div>"
      ],
      "text/plain": [
       "                0                    1\n",
       "0       Intercept     [-2.39786148003]\n",
       "1  C(Gender)[T.M]     [0.370198194892]\n",
       "2   PreDB[T.True]     [0.577498774058]\n",
       "3  Smoker[T.True]   [-0.0948212633921]\n",
       "4             BMI  [3.54883008786e-05]\n",
       "5      SystolicBP    [0.0178644777476]\n",
       "6     DiastolicBP   [-0.0159035868074]\n",
       "7             Age    [0.0368764450791]"
      ]
     },
     "execution_count": 61,
     "metadata": {},
     "output_type": "execute_result"
    }
   ],
   "source": [
    "pd.DataFrame(list(zip(X.columns, np.transpose(model.coef_))))"
   ]
  },
  {
   "cell_type": "code",
   "execution_count": 62,
   "metadata": {},
   "outputs": [],
   "source": [
    "train_X, test_X, train_y, test_y = train_test_split(X, y, test_size=0.2, random_state=seed)"
   ]
  },
  {
   "cell_type": "code",
   "execution_count": 63,
   "metadata": {},
   "outputs": [
    {
     "name": "stdout",
     "output_type": "stream",
     "text": [
      "Accuracy = 0.805\n"
     ]
    }
   ],
   "source": [
    "lr = LogisticRegression()\n",
    "lr.fit(train_X, train_y)\n",
    "\n",
    "print(\"Accuracy = {:.3f}\".format(lr.score(test_X, test_y)))"
   ]
  },
  {
   "cell_type": "code",
   "execution_count": 64,
   "metadata": {},
   "outputs": [
    {
     "name": "stdout",
     "output_type": "stream",
     "text": [
      "0.806532663317\n",
      "0.712884715183\n"
     ]
    }
   ],
   "source": [
    "# predict class labels for the test set\n",
    "predicted = model.predict(test_X)\n",
    "# generate class probabilities\n",
    "probs = model.predict_proba(test_X)\n",
    "\n",
    "print(metrics.accuracy_score(test_y, predicted))\n",
    "print(metrics.roc_auc_score(test_y, probs[:, 1]))"
   ]
  },
  {
   "cell_type": "code",
   "execution_count": 65,
   "metadata": {},
   "outputs": [
    {
     "name": "stdout",
     "output_type": "stream",
     "text": [
      "[[1593   24]\n",
      " [ 361   12]]\n",
      "             precision    recall  f1-score   support\n",
      "\n",
      "      False       0.82      0.99      0.89      1617\n",
      "       True       0.33      0.03      0.06       373\n",
      "\n",
      "avg / total       0.72      0.81      0.74      1990\n",
      "\n"
     ]
    }
   ],
   "source": [
    "print(metrics.confusion_matrix(test_y, predicted))\n",
    "print(metrics.classification_report(test_y, predicted))"
   ]
  }
 ],
 "metadata": {
  "kernelspec": {
   "display_name": "Python 3",
   "language": "python",
   "name": "python3"
  },
  "language_info": {
   "codemirror_mode": {
    "name": "ipython",
    "version": 3
   },
   "file_extension": ".py",
   "mimetype": "text/x-python",
   "name": "python",
   "nbconvert_exporter": "python",
   "pygments_lexer": "ipython3",
   "version": "3.6.3"
  }
 },
 "nbformat": 4,
 "nbformat_minor": 2
}
