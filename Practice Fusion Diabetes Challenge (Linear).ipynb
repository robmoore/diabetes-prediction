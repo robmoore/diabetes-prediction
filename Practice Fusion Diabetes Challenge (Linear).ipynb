{
 "cells": [
  {
   "cell_type": "code",
   "execution_count": 225,
   "metadata": {},
   "outputs": [],
   "source": [
    "%%bash\n",
    "# These files appear to be from the original competition (that is unmodified)\n",
    "wget -q -c https://raw.githubusercontent.com/yasminlucero/Kaggle/master/Data/compDataAsSQLiteDB/compData.db\n",
    "wget -q -c https://raw.githubusercontent.com/yasminlucero/Kaggle/master/Data/compDataAsSQLiteDB/compData.sql"
   ]
  },
  {
   "cell_type": "code",
   "execution_count": 226,
   "metadata": {},
   "outputs": [],
   "source": [
    "%matplotlib inline\n",
    "import seaborn as sns\n",
    "import matplotlib.pyplot as plt\n",
    "\n",
    "import sqlite3\n",
    "import pandas as pd\n",
    "import numpy as np\n",
    "\n",
    "from patsy import dmatrices\n",
    "\n",
    "from contextlib import closing\n",
    "\n",
    "from pandas.api.types import CategoricalDtype\n",
    "from pandas_ml import ConfusionMatrix\n",
    "\n",
    "from sklearn.model_selection import train_test_split\n",
    "from sklearn.model_selection import cross_val_score\n",
    "from sklearn.linear_model import LogisticRegression\n",
    "from sklearn import metrics"
   ]
  },
  {
   "cell_type": "code",
   "execution_count": 227,
   "metadata": {},
   "outputs": [],
   "source": [
    "seed = 13431\n",
    "np.random.seed(seed)\n",
    "\n",
    "with closing(sqlite3.connect('file:compData.db?mode=ro', uri=True)) as conn:    \n",
    "    patientTranscripts = pd.read_sql_query(\"\"\"\n",
    "    SELECT PatientGuid,\n",
    "        dmIndicator,\n",
    "        Gender,\n",
    "        YearOfBirth,\n",
    "        VisitYear,\n",
    "        CASE WHEN BMI = 0 THEN NULL ELSE BMI END AS BMI,\n",
    "        CASE WHEN SystolicBP = 'NULL' THEN NULL ELSE SystolicBP END AS SystolicBP,\n",
    "        CASE WHEN DiastolicBP = 'NULL' THEN NULL ELSE DiastolicBP END AS DiastolicBP\n",
    "    FROM training_patientTranscript\n",
    "\"\"\", conn)\n",
    "  \n",
    "    patientIcd9Codes = pd.read_sql_query(\"\"\"\n",
    "SELECT PatientGuid, ICD9Code\n",
    "FROM training_diagnosis \n",
    "\"\"\", conn)\n",
    "    \n",
    "    # Note: Need to use training_patientSmokingStatus directly rather than patient_smoking\n",
    "    # as the NIST codes used translate to multiple statuses\n",
    "    patientSmokingStatus = pd.read_sql_query(\"\"\"\n",
    "SELECT PatientGuid, \n",
    "    EffectiveYear,\n",
    "    SmokingStatusGuid\n",
    "FROM training_patientSmokingStatus\n",
    "\"\"\", conn)\n",
    "    \n",
    "    preDbMatch = pd.read_sql_query(\"\"\"\n",
    "SELECT DISTINCT PatientGuid\n",
    "FROM training_diagnosis \n",
    "WHERE ICD9Code IN ('790.29','648.83')\n",
    "\"\"\", conn)"
   ]
  },
  {
   "cell_type": "code",
   "execution_count": 1,
   "metadata": {},
   "outputs": [],
   "source": [
    "# https://www.cdc.gov/healthyweight/assessing/index.html\n",
    "def translateBMI(bmi):\n",
    "    if bmi <  18.5:\n",
    "        return 'Underweight'\n",
    "    elif 18.5 <= bmi <= 24.9:\n",
    "        return  'Normal'\n",
    "    elif 25 <= bmi <= 29.9:\n",
    "        return 'Overweight'\n",
    "    else:\n",
    "        return 'Obese'\n",
    "        \n",
    "# https://www.heart.org/HEARTORG/Conditions/HighBloodPressure/KnowYourNumbers/Understanding-Blood-Pressure-Readings_UCM_301764_Article.jsp\n",
    "def translateBP(systolicBP, diastolicBP):\n",
    "    if systolicBP < 120 and diastolicBP < 80:\n",
    "        return 'Normal'\n",
    "    elif systolicBP <= 129 and diastolicBP < 80:\n",
    "        return 'Elevated'\n",
    "    elif systolicBP <= 139 or 80 <= diastolicBP <= 89:\n",
    "        return 'HTN_S1'\n",
    "    elif 140 <= systolicBP or 90 <= diastolicBP:\n",
    "        return 'HTN_S2'\n",
    "    else:\n",
    "        return 'Hypertensive_Crisis'\n",
    "\n",
    "def calcAge(yearOfBirth):\n",
    "    return 2012 - yearOfBirth\n",
    "\n",
    "def isPreDB(patientGuid):\n",
    "    return patientGuid in preDbMatch.PatientGuid.values\n",
    "\n",
    "def isSmoker(ps, patientGuid):\n",
    "    return patientGuid in ps.index and ps.loc[patientGuid, 'SmokingStatusGuid'] in ('FA2B7AE4-4D14-4768-A8C7-55B5F0CDF4AF', \n",
    "                                                                                    '02116D5A-F26C-4A48-9A11-75AC21BC4FD3', \\\n",
    "                                                                                    'DD01E545-D7AF-4F00-B248-9FD40010D81D', \\\n",
    "                                                                                    'FCD437AA-0451-4D8A-9396-B6F19D8B25E8', \\\n",
    "                                                                                    '2548BD83-03AE-4287-A578-FA170F39E32F')\n",
    "\n",
    "def processPatientTranscripts(pt):\n",
    "    pt = pt.sort_values(['VisitYear'],  ascending=False)\n",
    "    pt = pt.groupby('PatientGuid', as_index=False).agg(lambda x: np.nan if x.first_valid_index() is None else x.loc[x.first_valid_index()])\n",
    "\n",
    "    pt['dmIndicator'] = pt['dmIndicator'].astype('bool')\n",
    "    pt['Gender'] = pt['Gender'].astype('category')\n",
    "    pt['Age'] = pt.apply(lambda row: calcAge(row.YearOfBirth), axis=1)\n",
    "    pt['PreDB'] = pt.apply(lambda row: isPreDB(row.PatientGuid), axis=1)\n",
    "    \n",
    "    pt.drop(['VisitYear', 'YearOfBirth'], axis=1, inplace=True)\n",
    "    pt.dropna(how='any', inplace=True)\n",
    "    \n",
    "    bmi_type = CategoricalDtype(categories=['Underweight', 'Normal', 'Overweight', 'Obese'], ordered=True)\n",
    "    pt['BMICategory'] = pt.apply(lambda row: translateBMI(row.BMI), axis=1).astype(bmi_type)\n",
    "    bp_type = CategoricalDtype(categories=['Normal', 'Elevated', 'HTN_S1', 'HTN_S2'], ordered=True)\n",
    "    pt['BPCategory'] = pt.apply(lambda row: translateBP(row.SystolicBP, row.DiastolicBP), axis=1).astype(bp_type)\n",
    "    \n",
    "    pt['SystolicBP'] = pt['SystolicBP'].astype('int')\n",
    "    pt['DiastolicBP'] = pt['DiastolicBP'].astype('int')\n",
    "    \n",
    "    return pt\n",
    "\n",
    "def processPatientSmoking(ps):\n",
    "    ps = ps.sort_values(['EffectiveYear'], ascending=False)\n",
    "    ps = ps.groupby('PatientGuid').agg(lambda x: np.nan if x.first_valid_index() is None else x.loc[x.first_valid_index()])\n",
    "    \n",
    "    ps['Smoker'] = ps.apply(lambda row: isSmoker(ps, row.name), axis=1)\n",
    "    \n",
    "    ps.drop(['EffectiveYear', 'SmokingStatusGuid'], axis=1, inplace=True)\n",
    "    ps.dropna(how='any', inplace=True)\n",
    "    ps.reset_index(level=0, inplace=True)\n",
    "\n",
    "    return ps\n"
   ]
  },
  {
   "cell_type": "code",
   "execution_count": 229,
   "metadata": {},
   "outputs": [
    {
     "data": {
      "text/html": [
       "<div>\n",
       "<style scoped>\n",
       "    .dataframe tbody tr th:only-of-type {\n",
       "        vertical-align: middle;\n",
       "    }\n",
       "\n",
       "    .dataframe tbody tr th {\n",
       "        vertical-align: top;\n",
       "    }\n",
       "\n",
       "    .dataframe thead th {\n",
       "        text-align: right;\n",
       "    }\n",
       "</style>\n",
       "<table border=\"1\" class=\"dataframe\">\n",
       "  <thead>\n",
       "    <tr style=\"text-align: right;\">\n",
       "      <th></th>\n",
       "      <th>PatientGuid</th>\n",
       "      <th>dmIndicator</th>\n",
       "      <th>Gender</th>\n",
       "      <th>BMI</th>\n",
       "      <th>SystolicBP</th>\n",
       "      <th>DiastolicBP</th>\n",
       "      <th>Age</th>\n",
       "      <th>PreDB</th>\n",
       "      <th>BMICategory</th>\n",
       "      <th>BPCategory</th>\n",
       "    </tr>\n",
       "  </thead>\n",
       "  <tbody>\n",
       "    <tr>\n",
       "      <th>0</th>\n",
       "      <td>00023761-9D8D-445B-874C-2424CC7CF620</td>\n",
       "      <td>False</td>\n",
       "      <td>M</td>\n",
       "      <td>27.670</td>\n",
       "      <td>122</td>\n",
       "      <td>76</td>\n",
       "      <td>56</td>\n",
       "      <td>False</td>\n",
       "      <td>Overweight</td>\n",
       "      <td>Elevated</td>\n",
       "    </tr>\n",
       "    <tr>\n",
       "      <th>1</th>\n",
       "      <td>0005D9BD-0247-4F02-B7EE-7C1B44825FA1</td>\n",
       "      <td>False</td>\n",
       "      <td>F</td>\n",
       "      <td>22.463</td>\n",
       "      <td>128</td>\n",
       "      <td>82</td>\n",
       "      <td>60</td>\n",
       "      <td>False</td>\n",
       "      <td>Normal</td>\n",
       "      <td>HTN_S1</td>\n",
       "    </tr>\n",
       "    <tr>\n",
       "      <th>2</th>\n",
       "      <td>000B4862-7CE7-4EC5-8043-A97FCD74BD78</td>\n",
       "      <td>False</td>\n",
       "      <td>F</td>\n",
       "      <td>16.654</td>\n",
       "      <td>80</td>\n",
       "      <td>60</td>\n",
       "      <td>87</td>\n",
       "      <td>False</td>\n",
       "      <td>Underweight</td>\n",
       "      <td>Normal</td>\n",
       "    </tr>\n",
       "    <tr>\n",
       "      <th>3</th>\n",
       "      <td>00110ABC-DAB9-49E3-A1C8-88BBF8D58109</td>\n",
       "      <td>False</td>\n",
       "      <td>M</td>\n",
       "      <td>28.190</td>\n",
       "      <td>125</td>\n",
       "      <td>75</td>\n",
       "      <td>42</td>\n",
       "      <td>False</td>\n",
       "      <td>Overweight</td>\n",
       "      <td>Elevated</td>\n",
       "    </tr>\n",
       "    <tr>\n",
       "      <th>4</th>\n",
       "      <td>002667F4-B9A3-4DE2-875F-8034DD637865</td>\n",
       "      <td>False</td>\n",
       "      <td>F</td>\n",
       "      <td>19.388</td>\n",
       "      <td>112</td>\n",
       "      <td>80</td>\n",
       "      <td>84</td>\n",
       "      <td>False</td>\n",
       "      <td>Normal</td>\n",
       "      <td>HTN_S1</td>\n",
       "    </tr>\n",
       "  </tbody>\n",
       "</table>\n",
       "</div>"
      ],
      "text/plain": [
       "                            PatientGuid  dmIndicator Gender     BMI  \\\n",
       "0  00023761-9D8D-445B-874C-2424CC7CF620        False      M  27.670   \n",
       "1  0005D9BD-0247-4F02-B7EE-7C1B44825FA1        False      F  22.463   \n",
       "2  000B4862-7CE7-4EC5-8043-A97FCD74BD78        False      F  16.654   \n",
       "3  00110ABC-DAB9-49E3-A1C8-88BBF8D58109        False      M  28.190   \n",
       "4  002667F4-B9A3-4DE2-875F-8034DD637865        False      F  19.388   \n",
       "\n",
       "   SystolicBP  DiastolicBP  Age  PreDB  BMICategory BPCategory  \n",
       "0         122           76   56  False   Overweight   Elevated  \n",
       "1         128           82   60  False       Normal     HTN_S1  \n",
       "2          80           60   87  False  Underweight     Normal  \n",
       "3         125           75   42  False   Overweight   Elevated  \n",
       "4         112           80   84  False       Normal     HTN_S1  "
      ]
     },
     "execution_count": 229,
     "metadata": {},
     "output_type": "execute_result"
    }
   ],
   "source": [
    "transcripts = processPatientTranscripts(patientTranscripts)\n",
    "transcripts.head()"
   ]
  },
  {
   "cell_type": "code",
   "execution_count": 230,
   "metadata": {},
   "outputs": [
    {
     "data": {
      "text/html": [
       "<div>\n",
       "<style scoped>\n",
       "    .dataframe tbody tr th:only-of-type {\n",
       "        vertical-align: middle;\n",
       "    }\n",
       "\n",
       "    .dataframe tbody tr th {\n",
       "        vertical-align: top;\n",
       "    }\n",
       "\n",
       "    .dataframe thead th {\n",
       "        text-align: right;\n",
       "    }\n",
       "</style>\n",
       "<table border=\"1\" class=\"dataframe\">\n",
       "  <thead>\n",
       "    <tr style=\"text-align: right;\">\n",
       "      <th></th>\n",
       "      <th>PatientGuid</th>\n",
       "      <th>Smoker</th>\n",
       "    </tr>\n",
       "  </thead>\n",
       "  <tbody>\n",
       "    <tr>\n",
       "      <th>0</th>\n",
       "      <td>000B4862-7CE7-4EC5-8043-A97FCD74BD78</td>\n",
       "      <td>False</td>\n",
       "    </tr>\n",
       "    <tr>\n",
       "      <th>1</th>\n",
       "      <td>0029BBC8-7C22-4444-9F44-87BEF05FE033</td>\n",
       "      <td>False</td>\n",
       "    </tr>\n",
       "    <tr>\n",
       "      <th>2</th>\n",
       "      <td>003CEE1F-5BF5-4171-9284-F5464EC12D41</td>\n",
       "      <td>False</td>\n",
       "    </tr>\n",
       "    <tr>\n",
       "      <th>3</th>\n",
       "      <td>005F61C9-E537-4AD2-B39C-37F25891F33A</td>\n",
       "      <td>False</td>\n",
       "    </tr>\n",
       "    <tr>\n",
       "      <th>4</th>\n",
       "      <td>0063B34F-C2C4-423A-A144-E51F7149253A</td>\n",
       "      <td>False</td>\n",
       "    </tr>\n",
       "  </tbody>\n",
       "</table>\n",
       "</div>"
      ],
      "text/plain": [
       "                            PatientGuid  Smoker\n",
       "0  000B4862-7CE7-4EC5-8043-A97FCD74BD78   False\n",
       "1  0029BBC8-7C22-4444-9F44-87BEF05FE033   False\n",
       "2  003CEE1F-5BF5-4171-9284-F5464EC12D41   False\n",
       "3  005F61C9-E537-4AD2-B39C-37F25891F33A   False\n",
       "4  0063B34F-C2C4-423A-A144-E51F7149253A   False"
      ]
     },
     "execution_count": 230,
     "metadata": {},
     "output_type": "execute_result"
    }
   ],
   "source": [
    "smokingStatus = processPatientSmoking(patientSmokingStatus)\n",
    "smokingStatus.head()"
   ]
  },
  {
   "cell_type": "code",
   "execution_count": 231,
   "metadata": {},
   "outputs": [
    {
     "data": {
      "text/html": [
       "<div>\n",
       "<style scoped>\n",
       "    .dataframe tbody tr th:only-of-type {\n",
       "        vertical-align: middle;\n",
       "    }\n",
       "\n",
       "    .dataframe tbody tr th {\n",
       "        vertical-align: top;\n",
       "    }\n",
       "\n",
       "    .dataframe thead th {\n",
       "        text-align: right;\n",
       "    }\n",
       "</style>\n",
       "<table border=\"1\" class=\"dataframe\">\n",
       "  <thead>\n",
       "    <tr style=\"text-align: right;\">\n",
       "      <th></th>\n",
       "      <th>dmIndicator</th>\n",
       "      <th>Gender</th>\n",
       "      <th>BMI</th>\n",
       "      <th>SystolicBP</th>\n",
       "      <th>DiastolicBP</th>\n",
       "      <th>Age</th>\n",
       "      <th>PreDB</th>\n",
       "      <th>BMICategory</th>\n",
       "      <th>BPCategory</th>\n",
       "      <th>Smoker</th>\n",
       "    </tr>\n",
       "  </thead>\n",
       "  <tbody>\n",
       "    <tr>\n",
       "      <th>0</th>\n",
       "      <td>False</td>\n",
       "      <td>M</td>\n",
       "      <td>27.670</td>\n",
       "      <td>122</td>\n",
       "      <td>76</td>\n",
       "      <td>56</td>\n",
       "      <td>False</td>\n",
       "      <td>Overweight</td>\n",
       "      <td>Elevated</td>\n",
       "      <td>False</td>\n",
       "    </tr>\n",
       "    <tr>\n",
       "      <th>1</th>\n",
       "      <td>False</td>\n",
       "      <td>F</td>\n",
       "      <td>22.463</td>\n",
       "      <td>128</td>\n",
       "      <td>82</td>\n",
       "      <td>60</td>\n",
       "      <td>False</td>\n",
       "      <td>Normal</td>\n",
       "      <td>HTN_S1</td>\n",
       "      <td>False</td>\n",
       "    </tr>\n",
       "    <tr>\n",
       "      <th>2</th>\n",
       "      <td>False</td>\n",
       "      <td>F</td>\n",
       "      <td>16.654</td>\n",
       "      <td>80</td>\n",
       "      <td>60</td>\n",
       "      <td>87</td>\n",
       "      <td>False</td>\n",
       "      <td>Underweight</td>\n",
       "      <td>Normal</td>\n",
       "      <td>False</td>\n",
       "    </tr>\n",
       "    <tr>\n",
       "      <th>3</th>\n",
       "      <td>False</td>\n",
       "      <td>M</td>\n",
       "      <td>28.190</td>\n",
       "      <td>125</td>\n",
       "      <td>75</td>\n",
       "      <td>42</td>\n",
       "      <td>False</td>\n",
       "      <td>Overweight</td>\n",
       "      <td>Elevated</td>\n",
       "      <td>False</td>\n",
       "    </tr>\n",
       "    <tr>\n",
       "      <th>4</th>\n",
       "      <td>False</td>\n",
       "      <td>F</td>\n",
       "      <td>19.388</td>\n",
       "      <td>112</td>\n",
       "      <td>80</td>\n",
       "      <td>84</td>\n",
       "      <td>False</td>\n",
       "      <td>Normal</td>\n",
       "      <td>HTN_S1</td>\n",
       "      <td>False</td>\n",
       "    </tr>\n",
       "  </tbody>\n",
       "</table>\n",
       "</div>"
      ],
      "text/plain": [
       "   dmIndicator Gender     BMI  SystolicBP  DiastolicBP  Age  PreDB  \\\n",
       "0        False      M  27.670         122           76   56  False   \n",
       "1        False      F  22.463         128           82   60  False   \n",
       "2        False      F  16.654          80           60   87  False   \n",
       "3        False      M  28.190         125           75   42  False   \n",
       "4        False      F  19.388         112           80   84  False   \n",
       "\n",
       "   BMICategory BPCategory  Smoker  \n",
       "0   Overweight   Elevated   False  \n",
       "1       Normal     HTN_S1   False  \n",
       "2  Underweight     Normal   False  \n",
       "3   Overweight   Elevated   False  \n",
       "4       Normal     HTN_S1   False  "
      ]
     },
     "execution_count": 231,
     "metadata": {},
     "output_type": "execute_result"
    }
   ],
   "source": [
    "patients = pd.merge(transcripts, smokingStatus, on='PatientGuid', how='left')\n",
    "patients['Smoker'] = patients['Smoker'].fillna(False)\n",
    "patients.drop(['PatientGuid'], axis=1, inplace=True)\n",
    "patients.head()"
   ]
  },
  {
   "cell_type": "code",
   "execution_count": 232,
   "metadata": {},
   "outputs": [
    {
     "name": "stdout",
     "output_type": "stream",
     "text": [
      "Index(['Intercept', 'C(Gender)[T.M]', 'C(BMICategory)[T.Normal]',\n",
      "       'C(BMICategory)[T.Overweight]', 'C(BMICategory)[T.Obese]',\n",
      "       'C(BPCategory)[T.Elevated]', 'C(BPCategory)[T.HTN_S1]',\n",
      "       'C(BPCategory)[T.HTN_S2]', 'PreDB[T.True]', 'Smoker[T.True]', 'Age'],\n",
      "      dtype='object')\n"
     ]
    }
   ],
   "source": [
    "# create dataframes with an intercept column and dummy variables for\n",
    "# occupation and occupation_husb\n",
    "y, X = dmatrices('dmIndicator ~ C(Gender) + C(BMICategory) + C(BPCategory) + Age + PreDB + Smoker',\n",
    "                  patients, return_type='dataframe')\n",
    "print(X.columns)"
   ]
  },
  {
   "cell_type": "code",
   "execution_count": 233,
   "metadata": {},
   "outputs": [],
   "source": [
    "y = y.iloc[:, 1].astype('bool')"
   ]
  },
  {
   "cell_type": "code",
   "execution_count": 234,
   "metadata": {},
   "outputs": [
    {
     "data": {
      "text/plain": [
       "0.80737910927917966"
      ]
     },
     "execution_count": 234,
     "metadata": {},
     "output_type": "execute_result"
    }
   ],
   "source": [
    "model = LogisticRegression()\n",
    "model = model.fit(X, y)\n",
    "\n",
    "# check the accuracy on the training set\n",
    "model.score(X, y)"
   ]
  },
  {
   "cell_type": "code",
   "execution_count": 235,
   "metadata": {},
   "outputs": [
    {
     "data": {
      "text/plain": [
       "0.19141449683321604"
      ]
     },
     "execution_count": 235,
     "metadata": {},
     "output_type": "execute_result"
    }
   ],
   "source": [
    "y.mean()"
   ]
  },
  {
   "cell_type": "markdown",
   "metadata": {},
   "source": [
    "Only 19% of the patients had type 2 diabetes, which means that we could obtain 81% accuracy by always predicting `False`. So we're actually doing *worse* than the null error rate."
   ]
  },
  {
   "cell_type": "code",
   "execution_count": 236,
   "metadata": {},
   "outputs": [
    {
     "data": {
      "text/html": [
       "<div>\n",
       "<style scoped>\n",
       "    .dataframe tbody tr th:only-of-type {\n",
       "        vertical-align: middle;\n",
       "    }\n",
       "\n",
       "    .dataframe tbody tr th {\n",
       "        vertical-align: top;\n",
       "    }\n",
       "\n",
       "    .dataframe thead th {\n",
       "        text-align: right;\n",
       "    }\n",
       "</style>\n",
       "<table border=\"1\" class=\"dataframe\">\n",
       "  <thead>\n",
       "    <tr style=\"text-align: right;\">\n",
       "      <th></th>\n",
       "      <th>0</th>\n",
       "      <th>1</th>\n",
       "    </tr>\n",
       "  </thead>\n",
       "  <tbody>\n",
       "    <tr>\n",
       "      <th>0</th>\n",
       "      <td>Intercept</td>\n",
       "      <td>[-2.66570922605]</td>\n",
       "    </tr>\n",
       "    <tr>\n",
       "      <th>1</th>\n",
       "      <td>C(Gender)[T.M]</td>\n",
       "      <td>[0.31659752709]</td>\n",
       "    </tr>\n",
       "    <tr>\n",
       "      <th>2</th>\n",
       "      <td>C(BMICategory)[T.Normal]</td>\n",
       "      <td>[0.136629603535]</td>\n",
       "    </tr>\n",
       "    <tr>\n",
       "      <th>3</th>\n",
       "      <td>C(BMICategory)[T.Overweight]</td>\n",
       "      <td>[0.750695164526]</td>\n",
       "    </tr>\n",
       "    <tr>\n",
       "      <th>4</th>\n",
       "      <td>C(BMICategory)[T.Obese]</td>\n",
       "      <td>[1.39338729504]</td>\n",
       "    </tr>\n",
       "    <tr>\n",
       "      <th>5</th>\n",
       "      <td>C(BPCategory)[T.Elevated]</td>\n",
       "      <td>[0.0220422353029]</td>\n",
       "    </tr>\n",
       "    <tr>\n",
       "      <th>6</th>\n",
       "      <td>C(BPCategory)[T.HTN_S1]</td>\n",
       "      <td>[0.118738912773]</td>\n",
       "    </tr>\n",
       "    <tr>\n",
       "      <th>7</th>\n",
       "      <td>C(BPCategory)[T.HTN_S2]</td>\n",
       "      <td>[0.282356019704]</td>\n",
       "    </tr>\n",
       "    <tr>\n",
       "      <th>8</th>\n",
       "      <td>PreDB[T.True]</td>\n",
       "      <td>[0.541596444638]</td>\n",
       "    </tr>\n",
       "    <tr>\n",
       "      <th>9</th>\n",
       "      <td>Smoker[T.True]</td>\n",
       "      <td>[-0.0324645815771]</td>\n",
       "    </tr>\n",
       "    <tr>\n",
       "      <th>10</th>\n",
       "      <td>Age</td>\n",
       "      <td>[0.0463479844972]</td>\n",
       "    </tr>\n",
       "  </tbody>\n",
       "</table>\n",
       "</div>"
      ],
      "text/plain": [
       "                               0                   1\n",
       "0                      Intercept    [-2.66570922605]\n",
       "1                 C(Gender)[T.M]     [0.31659752709]\n",
       "2       C(BMICategory)[T.Normal]    [0.136629603535]\n",
       "3   C(BMICategory)[T.Overweight]    [0.750695164526]\n",
       "4        C(BMICategory)[T.Obese]     [1.39338729504]\n",
       "5      C(BPCategory)[T.Elevated]   [0.0220422353029]\n",
       "6        C(BPCategory)[T.HTN_S1]    [0.118738912773]\n",
       "7        C(BPCategory)[T.HTN_S2]    [0.282356019704]\n",
       "8                  PreDB[T.True]    [0.541596444638]\n",
       "9                 Smoker[T.True]  [-0.0324645815771]\n",
       "10                           Age   [0.0463479844972]"
      ]
     },
     "execution_count": 236,
     "metadata": {},
     "output_type": "execute_result"
    }
   ],
   "source": [
    "pd.DataFrame(list(zip(X.columns, np.transpose(model.coef_))))"
   ]
  },
  {
   "cell_type": "code",
   "execution_count": 303,
   "metadata": {},
   "outputs": [
    {
     "data": {
      "image/png": "[encoded data removed]",
      "text/plain": [
       "<matplotlib.figure.Figure at 0x7fd4f4258400>"
      ]
     },
     "metadata": {},
     "output_type": "display_data"
    }
   ],
   "source": [
    "sns.heatmap(patients.corr(), annot=True, fmt='.2f', cmap='Blues');"
   ]
  },
  {
   "cell_type": "code",
   "execution_count": 237,
   "metadata": {},
   "outputs": [],
   "source": [
    "train_X, test_X, train_y, test_y = train_test_split(X, y, test_size=0.2, random_state=seed)"
   ]
  },
  {
   "cell_type": "code",
   "execution_count": 238,
   "metadata": {},
   "outputs": [
    {
     "name": "stdout",
     "output_type": "stream",
     "text": [
      "Accuracy = 0.81\n"
     ]
    }
   ],
   "source": [
    "lr = LogisticRegression()\n",
    "lr.fit(train_X, train_y)\n",
    "\n",
    "print(\"Accuracy = {:.2f}\".format(lr.score(test_X, test_y)))"
   ]
  },
  {
   "cell_type": "code",
   "execution_count": 295,
   "metadata": {},
   "outputs": [
    {
     "name": "stdout",
     "output_type": "stream",
     "text": [
      "0.809045226131\n",
      "0.749246859358\n"
     ]
    }
   ],
   "source": [
    "# predict class labels for the test set\n",
    "predicted = model.predict(test_X)\n",
    "# generate class probabilities\n",
    "probs = model.predict_proba(test_X)\n",
    "\n",
    "print(metrics.accuracy_score(test_y, predicted))\n",
    "print(metrics.roc_auc_score(test_y, probs[:, 1]))"
   ]
  },
  {
   "cell_type": "code",
   "execution_count": 294,
   "metadata": {},
   "outputs": [
    {
     "name": "stdout",
     "output_type": "stream",
     "text": [
      "             precision    recall  f1-score   support\n",
      "\n",
      "      False       0.82      0.98      0.89      1617\n",
      "       True       0.43      0.06      0.10       373\n",
      "\n",
      "avg / total       0.75      0.81      0.74      1990\n",
      "\n"
     ]
    }
   ],
   "source": [
    "print(metrics.classification_report(test_y, predicted))"
   ]
  },
  {
   "cell_type": "code",
   "execution_count": 300,
   "metadata": {},
   "outputs": [
    {
     "name": "stdout",
     "output_type": "stream",
     "text": [
      "Binary confusion matrix:\n",
      "Predicted  False  True  __all__\n",
      "Actual                         \n",
      "False        300     8      308\n",
      "True          85     2       87\n",
      "__all__      385    10      395\n"
     ]
    }
   ],
   "source": [
    "binary_confusion_matrix = ConfusionMatrix(test_y, predicted)\n",
    "print(\"Binary confusion matrix:\\n%s\" % binary_confusion_matrix)"
   ]
  },
  {
   "cell_type": "code",
   "execution_count": 304,
   "metadata": {},
   "outputs": [
    {
     "data": {
      "image/png": "[encoded data removed]",
      "text/plain": [
       "<matplotlib.figure.Figure at 0x7fd508014a20>"
      ]
     },
     "metadata": {},
     "output_type": "display_data"
    }
   ],
   "source": [
    "binary_confusion_matrix.plot(backend='seaborn', cmap='Blues');"
   ]
  },
  {
   "cell_type": "code",
   "execution_count": 299,
   "metadata": {},
   "outputs": [
    {
     "name": "stdout",
     "output_type": "stream",
     "text": [
      "population: 395\n",
      "P: 87\n",
      "N: 308\n",
      "PositiveTest: 10\n",
      "NegativeTest: 385\n",
      "TP: 2\n",
      "TN: 300\n",
      "FP: 8\n",
      "FN: 85\n",
      "TPR: 0.0229885057471\n",
      "TNR: 0.974025974026\n",
      "PPV: 0.2\n",
      "NPV: 0.779220779221\n",
      "FPR: 0.025974025974\n",
      "FDR: 0.8\n",
      "FNR: 0.977011494253\n",
      "ACC: 0.764556962025\n",
      "F1_score: 0.0412371134021\n",
      "MCC: -0.00787634330991\n",
      "informedness: -0.0029855202269\n",
      "markedness: -0.0207792207792\n",
      "prevalence: 0.220253164557\n",
      "LRP: 0.885057471264\n",
      "LRN: 1.0030651341\n",
      "DOR: 0.882352941176\n",
      "FOR: 0.220779220779\n"
     ]
    }
   ],
   "source": [
    "binary_confusion_matrix.print_stats()"
   ]
  },
  {
   "cell_type": "code",
   "execution_count": 242,
   "metadata": {},
   "outputs": [
    {
     "data": {
      "image/png": "[encoded data removed]",
      "text/plain": [
       "<matplotlib.figure.Figure at 0x7fd504bfc860>"
      ]
     },
     "metadata": {},
     "output_type": "display_data"
    }
   ],
   "source": [
    "sns.barplot(x=\"Smoker\", y=\"dmIndicator\", hue=\"Gender\", data=patients);"
   ]
  },
  {
   "cell_type": "code",
   "execution_count": 243,
   "metadata": {},
   "outputs": [
    {
     "data": {
      "image/png": "[encoded data removed]",
      "text/plain": [
       "<matplotlib.figure.Figure at 0x7fd4f0f5d5f8>"
      ]
     },
     "metadata": {},
     "output_type": "display_data"
    }
   ],
   "source": [
    "sns.barplot(x=\"PreDB\", y=\"dmIndicator\", hue=\"Gender\", data=patients);"
   ]
  },
  {
   "cell_type": "code",
   "execution_count": 244,
   "metadata": {
    "scrolled": true
   },
   "outputs": [
    {
     "data": {
      "image/png": "[encoded data removed]",
      "text/plain": [
       "<matplotlib.figure.Figure at 0x7fd5267bee10>"
      ]
     },
     "metadata": {},
     "output_type": "display_data"
    }
   ],
   "source": [
    "sns.barplot(x=\"BMICategory\", y=\"dmIndicator\", hue=\"Gender\", data=patients);"
   ]
  },
  {
   "cell_type": "code",
   "execution_count": 245,
   "metadata": {},
   "outputs": [
    {
     "data": {
      "image/png": "[encoded data removed]",
      "text/plain": [
       "<matplotlib.figure.Figure at 0x7fd507c193c8>"
      ]
     },
     "metadata": {},
     "output_type": "display_data"
    }
   ],
   "source": [
    "#patients.BPCategory.cat.remove_unused_categories()\n",
    "sns.barplot(x=\"BPCategory\", y=\"dmIndicator\", hue=\"Gender\", data=patients);"
   ]
  },
  {
   "cell_type": "code",
   "execution_count": 251,
   "metadata": {},
   "outputs": [
    {
     "data": {
      "image/png": "[encoded data removed]",
      "text/plain": [
       "<matplotlib.figure.Figure at 0x7fd4f4f0c208>"
      ]
     },
     "metadata": {},
     "output_type": "display_data"
    }
   ],
   "source": [
    "sns.factorplot(x=\"BMICategory\", y=\"dmIndicator\", data=patients, kind=\"bar\")#, ci=None);\n",
    "plt.xlabel('BMI Category')\n",
    "plt.ylabel('Type 2 diabetes');\n"
   ]
  },
  {
   "cell_type": "code",
   "execution_count": 252,
   "metadata": {},
   "outputs": [
    {
     "data": {
      "image/png": "[encoded data removed]",
      "text/plain": [
       "<matplotlib.figure.Figure at 0x7fd507348240>"
      ]
     },
     "metadata": {},
     "output_type": "display_data"
    }
   ],
   "source": [
    "#patients['BPCategory'] = pd.to_numeric(patients['BPCategory'])\n",
    "sns.factorplot(x=\"BPCategory\", y=\"dmIndicator\", data=patients, kind=\"bar\")#, ci=None)\n",
    "plt.xlabel('Blood Pressure Category')\n",
    "plt.ylabel('Type 2 diabetes');"
   ]
  }
 ],
 "metadata": {
  "kernelspec": {
   "display_name": "Python 3",
   "language": "python",
   "name": "python3"
  },
  "language_info": {
   "codemirror_mode": {
    "name": "ipython",
    "version": 3
   },
   "file_extension": ".py",
   "mimetype": "text/x-python",
   "name": "python",
   "nbconvert_exporter": "python",
   "pygments_lexer": "ipython3",
   "version": "3.6.3"
  }
 },
 "nbformat": 4,
 "nbformat_minor": 2
}
