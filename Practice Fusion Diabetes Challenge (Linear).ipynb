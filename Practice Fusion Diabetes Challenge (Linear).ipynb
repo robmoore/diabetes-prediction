{
 "cells": [
  {
   "cell_type": "code",
   "execution_count": 1,
   "metadata": {},
   "outputs": [],
   "source": [
    "%%bash\n",
    "# These files appear to be from the original competition (that is unmodified)\n",
    "wget -q -c https://raw.githubusercontent.com/yasminlucero/Kaggle/master/Data/compDataAsSQLiteDB/compData.db\n",
    "wget -q -c https://raw.githubusercontent.com/yasminlucero/Kaggle/master/Data/compDataAsSQLiteDB/compData.sql"
   ]
  },
  {
   "cell_type": "code",
   "execution_count": null,
   "metadata": {},
   "outputs": [],
   "source": [
    "%matplotlib inline\n",
    "import seaborn as sns\n",
    "\n",
    "import sqlite3\n",
    "import pandas as pd\n",
    "import numpy as np\n",
    "\n",
    "from patsy import dmatrices\n",
    "\n",
    "from contextlib import closing\n",
    "\n",
    "from sklearn.model_selection import train_test_split\n",
    "from sklearn.model_selection import cross_val_score\n",
    "from sklearn.linear_model import LogisticRegression\n",
    "from sklearn import metrics"
   ]
  },
  {
   "cell_type": "code",
   "execution_count": 11,
   "metadata": {},
   "outputs": [],
   "source": [
    "seed = 13431\n",
    "np.random.seed(seed)\n",
    "\n",
    "with closing(sqlite3.connect('file:compData.db?mode=ro', uri=True)) as conn:    \n",
    "    patientTranscripts = pd.read_sql_query(\"\"\"\n",
    "    SELECT PatientGuid,\n",
    "        dmIndicator,\n",
    "        Gender,\n",
    "        YearOfBirth,\n",
    "        VisitYear,\n",
    "        CASE WHEN BMI = 0 THEN NULL ELSE BMI END AS BMI,\n",
    "        CASE WHEN SystolicBP = 'NULL' THEN NULL ELSE SystolicBP END AS SystolicBP,\n",
    "        CASE WHEN DiastolicBP = 'NULL' THEN NULL ELSE DiastolicBP END AS DiastolicBP\n",
    "    FROM training_patientTranscript\n",
    "\"\"\", conn)\n",
    "  \n",
    "    patientIcd9Codes = pd.read_sql_query(\"\"\"\n",
    "SELECT PatientGuid, ICD9Code\n",
    "FROM training_diagnosis \n",
    "\"\"\", conn)\n",
    "    \n",
    "    # Note: Need to use training_patientSmokingStatus directly rather than patient_smoking\n",
    "    # as the NIST codes used translate to multiple statuses\n",
    "    patientSmokingStatus = pd.read_sql_query(\"\"\"\n",
    "SELECT PatientGuid, \n",
    "    EffectiveYear,\n",
    "    SmokingStatusGuid\n",
    "FROM training_patientSmokingStatus\n",
    "\"\"\", conn)\n",
    "    \n",
    "    preDbMatch = pd.read_sql_query(\"\"\"\n",
    "SELECT DISTINCT PatientGuid\n",
    "FROM training_diagnosis \n",
    "WHERE ICD9Code IN ('790.29','648.83')\n",
    "\"\"\", conn)"
   ]
  },
  {
   "cell_type": "code",
   "execution_count": 71,
   "metadata": {},
   "outputs": [],
   "source": [
    "# https://www.cdc.gov/healthyweight/assessing/index.html\n",
    "def translateBMI(bmi):\n",
    "    if bmi <  18.5:\n",
    "        return \"Underweight\"\n",
    "    elif 18.5 <= bmi <= 24.9:\n",
    "        return  \"Normal\"\n",
    "    elif 25 <= bmi <= 29.9:\n",
    "        return \"Overweight\"\n",
    "    else:\n",
    "        return \"Obese\"\n",
    "        \n",
    "# https://www.heart.org/HEARTORG/Conditions/HighBloodPressure/KnowYourNumbers/Understanding-Blood-Pressure-Readings_UCM_301764_Article.jsp\n",
    "def translateBP(systolicBP, diastolicBP):\n",
    "    if systolicBP < 120 and diastolicBP < 80:\n",
    "        return \"Normal\"\n",
    "    elif systolicBP <= 129 and diastolicBP < 80:\n",
    "        return \"Elevated\"\n",
    "    elif systolicBP <= 139 or 80 <= diastolicBP <= 89:\n",
    "        return \"HTN_S1\"\n",
    "    elif 140 <= systolicBP or 90 <= diastolicBP:\n",
    "        return \"HTN_S2\"\n",
    "    else:\n",
    "        return \"Hypertensive_Crisis\"\n",
    "\n",
    "def calcAge(yearOfBirth):\n",
    "    return 2012 - yearOfBirth\n",
    "\n",
    "def isPreDB(patientGuid):\n",
    "   return patientGuid in preDbMatch.PatientGuid.values\n",
    " \n",
    "def isSmoker(ps, patientGuid):\n",
    "    return patientGuid in ps.index and ps.loc[patientGuid, 'SmokingStatusGuid'] in ('FA2B7AE4-4D14-4768-A8C7-55B5F0CDF4AF', \n",
    "                                                                                    '02116D5A-F26C-4A48-9A11-75AC21BC4FD3', \\\n",
    "                                                                                    'DD01E545-D7AF-4F00-B248-9FD40010D81D', \\\n",
    "                                                                                    'FCD437AA-0451-4D8A-9396-B6F19D8B25E8', \\\n",
    "                                                                                    '2548BD83-03AE-4287-A578-FA170F39E32F')\n",
    "\n",
    "def processPatientTranscripts(pt):\n",
    "    pt = pt.sort_values(['VisitYear'],  ascending=False)\n",
    "    pt = pt.groupby('PatientGuid', as_index=False).agg(lambda x: np.nan if x.first_valid_index() is None else x.loc[x.first_valid_index()])\n",
    "\n",
    "    pt['dmIndicator'] = pt['dmIndicator'].astype('bool')\n",
    "    pt['Gender'] = pt['Gender'].astype('category')\n",
    "    pt['Age'] = pt.apply(lambda row: calcAge(row.YearOfBirth), axis=1)\n",
    "    pt['PreDB'] = pt.apply(lambda row: isPreDB(row.PatientGuid), axis=1)\n",
    "    \n",
    "    pt['BMICategory'] = pt.apply(lambda row: translateBMI(row.BMI), axis=1).astype('category')\n",
    "    pt['BPCategory'] = pt.apply(lambda row: translateBP(row.SystolicBP, row.DiastolicBP), axis=1).astype('category')\n",
    "    \n",
    "    pt.drop(['VisitYear', 'YearOfBirth', 'BMI', 'SystolicBP', 'DiastolicBP'], axis=1, inplace=True)\n",
    "    pt.dropna(how='any', inplace=True)\n",
    "    \n",
    "    #pt['SystolicBP'] = pt['SystolicBP'].astype('int')\n",
    "    #pt['DiastolicBP'] = pt['DiastolicBP'].astype('int')\n",
    "    \n",
    "    return pt\n",
    "\n",
    "def processPatientSmoking(ps):\n",
    "    ps = ps.sort_values(['EffectiveYear'], ascending=False)\n",
    "    ps = ps.groupby('PatientGuid').agg(lambda x: np.nan if x.first_valid_index() is None else x.loc[x.first_valid_index()])\n",
    "    \n",
    "    ps['Smoker'] = ps.apply(lambda row: isSmoker(ps, row.name), axis=1)\n",
    "    \n",
    "    ps.drop(['EffectiveYear', 'SmokingStatusGuid'], axis=1, inplace=True)\n",
    "    ps.dropna(how='any', inplace=True)\n",
    "    ps.reset_index(level=0, inplace=True)\n",
    "\n",
    "    return ps\n"
   ]
  },
  {
   "cell_type": "code",
   "execution_count": 72,
   "metadata": {},
   "outputs": [
    {
     "data": {
      "text/html": [
       "<div>\n",
       "<table border=\"1\" class=\"dataframe\">\n",
       "  <thead>\n",
       "    <tr style=\"text-align: right;\">\n",
       "      <th></th>\n",
       "      <th>PatientGuid</th>\n",
       "      <th>dmIndicator</th>\n",
       "      <th>Gender</th>\n",
       "      <th>Age</th>\n",
       "      <th>PreDB</th>\n",
       "      <th>BMICategory</th>\n",
       "      <th>BPCategory</th>\n",
       "    </tr>\n",
       "  </thead>\n",
       "  <tbody>\n",
       "    <tr>\n",
       "      <th>0</th>\n",
       "      <td>00023761-9D8D-445B-874C-2424CC7CF620</td>\n",
       "      <td>False</td>\n",
       "      <td>M</td>\n",
       "      <td>56</td>\n",
       "      <td>False</td>\n",
       "      <td>Overweight</td>\n",
       "      <td>Elevated</td>\n",
       "    </tr>\n",
       "    <tr>\n",
       "      <th>1</th>\n",
       "      <td>0005D9BD-0247-4F02-B7EE-7C1B44825FA1</td>\n",
       "      <td>False</td>\n",
       "      <td>F</td>\n",
       "      <td>60</td>\n",
       "      <td>False</td>\n",
       "      <td>Normal</td>\n",
       "      <td>HTN_S1</td>\n",
       "    </tr>\n",
       "    <tr>\n",
       "      <th>2</th>\n",
       "      <td>000B4862-7CE7-4EC5-8043-A97FCD74BD78</td>\n",
       "      <td>False</td>\n",
       "      <td>F</td>\n",
       "      <td>87</td>\n",
       "      <td>False</td>\n",
       "      <td>Underweight</td>\n",
       "      <td>Normal</td>\n",
       "    </tr>\n",
       "    <tr>\n",
       "      <th>3</th>\n",
       "      <td>00110ABC-DAB9-49E3-A1C8-88BBF8D58109</td>\n",
       "      <td>False</td>\n",
       "      <td>M</td>\n",
       "      <td>42</td>\n",
       "      <td>False</td>\n",
       "      <td>Overweight</td>\n",
       "      <td>Elevated</td>\n",
       "    </tr>\n",
       "    <tr>\n",
       "      <th>4</th>\n",
       "      <td>002667F4-B9A3-4DE2-875F-8034DD637865</td>\n",
       "      <td>False</td>\n",
       "      <td>F</td>\n",
       "      <td>84</td>\n",
       "      <td>False</td>\n",
       "      <td>Normal</td>\n",
       "      <td>HTN_S1</td>\n",
       "    </tr>\n",
       "  </tbody>\n",
       "</table>\n",
       "</div>"
      ],
      "text/plain": [
       "                            PatientGuid dmIndicator Gender  Age  PreDB  \\\n",
       "0  00023761-9D8D-445B-874C-2424CC7CF620       False      M   56  False   \n",
       "1  0005D9BD-0247-4F02-B7EE-7C1B44825FA1       False      F   60  False   \n",
       "2  000B4862-7CE7-4EC5-8043-A97FCD74BD78       False      F   87  False   \n",
       "3  00110ABC-DAB9-49E3-A1C8-88BBF8D58109       False      M   42  False   \n",
       "4  002667F4-B9A3-4DE2-875F-8034DD637865       False      F   84  False   \n",
       "\n",
       "   BMICategory BPCategory  \n",
       "0   Overweight   Elevated  \n",
       "1       Normal     HTN_S1  \n",
       "2  Underweight     Normal  \n",
       "3   Overweight   Elevated  \n",
       "4       Normal     HTN_S1  "
      ]
     },
     "execution_count": 72,
     "metadata": {},
     "output_type": "execute_result"
    }
   ],
   "source": [
    "transcripts = processPatientTranscripts(patientTranscripts)\n",
    "transcripts.head()"
   ]
  },
  {
   "cell_type": "code",
   "execution_count": 64,
   "metadata": {},
   "outputs": [
    {
     "data": {
      "text/html": [
       "<div>\n",
       "<table border=\"1\" class=\"dataframe\">\n",
       "  <thead>\n",
       "    <tr style=\"text-align: right;\">\n",
       "      <th></th>\n",
       "      <th>PatientGuid</th>\n",
       "      <th>Smoker</th>\n",
       "    </tr>\n",
       "  </thead>\n",
       "  <tbody>\n",
       "    <tr>\n",
       "      <th>0</th>\n",
       "      <td>000B4862-7CE7-4EC5-8043-A97FCD74BD78</td>\n",
       "      <td>False</td>\n",
       "    </tr>\n",
       "    <tr>\n",
       "      <th>1</th>\n",
       "      <td>0029BBC8-7C22-4444-9F44-87BEF05FE033</td>\n",
       "      <td>False</td>\n",
       "    </tr>\n",
       "    <tr>\n",
       "      <th>2</th>\n",
       "      <td>003CEE1F-5BF5-4171-9284-F5464EC12D41</td>\n",
       "      <td>False</td>\n",
       "    </tr>\n",
       "    <tr>\n",
       "      <th>3</th>\n",
       "      <td>005F61C9-E537-4AD2-B39C-37F25891F33A</td>\n",
       "      <td>False</td>\n",
       "    </tr>\n",
       "    <tr>\n",
       "      <th>4</th>\n",
       "      <td>0063B34F-C2C4-423A-A144-E51F7149253A</td>\n",
       "      <td>False</td>\n",
       "    </tr>\n",
       "  </tbody>\n",
       "</table>\n",
       "</div>"
      ],
      "text/plain": [
       "                            PatientGuid Smoker\n",
       "0  000B4862-7CE7-4EC5-8043-A97FCD74BD78  False\n",
       "1  0029BBC8-7C22-4444-9F44-87BEF05FE033  False\n",
       "2  003CEE1F-5BF5-4171-9284-F5464EC12D41  False\n",
       "3  005F61C9-E537-4AD2-B39C-37F25891F33A  False\n",
       "4  0063B34F-C2C4-423A-A144-E51F7149253A  False"
      ]
     },
     "execution_count": 64,
     "metadata": {},
     "output_type": "execute_result"
    }
   ],
   "source": [
    "smokingStatus = processPatientSmoking(patientSmokingStatus)\n",
    "smokingStatus.head()"
   ]
  },
  {
   "cell_type": "code",
   "execution_count": 73,
   "metadata": {},
   "outputs": [
    {
     "data": {
      "text/html": [
       "<div>\n",
       "<table border=\"1\" class=\"dataframe\">\n",
       "  <thead>\n",
       "    <tr style=\"text-align: right;\">\n",
       "      <th></th>\n",
       "      <th>dmIndicator</th>\n",
       "      <th>Gender</th>\n",
       "      <th>Age</th>\n",
       "      <th>PreDB</th>\n",
       "      <th>BMICategory</th>\n",
       "      <th>BPCategory</th>\n",
       "      <th>Smoker</th>\n",
       "    </tr>\n",
       "  </thead>\n",
       "  <tbody>\n",
       "    <tr>\n",
       "      <th>0</th>\n",
       "      <td>False</td>\n",
       "      <td>M</td>\n",
       "      <td>56</td>\n",
       "      <td>False</td>\n",
       "      <td>Overweight</td>\n",
       "      <td>Elevated</td>\n",
       "      <td>False</td>\n",
       "    </tr>\n",
       "    <tr>\n",
       "      <th>1</th>\n",
       "      <td>False</td>\n",
       "      <td>F</td>\n",
       "      <td>60</td>\n",
       "      <td>False</td>\n",
       "      <td>Normal</td>\n",
       "      <td>HTN_S1</td>\n",
       "      <td>False</td>\n",
       "    </tr>\n",
       "    <tr>\n",
       "      <th>2</th>\n",
       "      <td>False</td>\n",
       "      <td>F</td>\n",
       "      <td>87</td>\n",
       "      <td>False</td>\n",
       "      <td>Underweight</td>\n",
       "      <td>Normal</td>\n",
       "      <td>False</td>\n",
       "    </tr>\n",
       "    <tr>\n",
       "      <th>3</th>\n",
       "      <td>False</td>\n",
       "      <td>M</td>\n",
       "      <td>42</td>\n",
       "      <td>False</td>\n",
       "      <td>Overweight</td>\n",
       "      <td>Elevated</td>\n",
       "      <td>False</td>\n",
       "    </tr>\n",
       "    <tr>\n",
       "      <th>4</th>\n",
       "      <td>False</td>\n",
       "      <td>F</td>\n",
       "      <td>84</td>\n",
       "      <td>False</td>\n",
       "      <td>Normal</td>\n",
       "      <td>HTN_S1</td>\n",
       "      <td>False</td>\n",
       "    </tr>\n",
       "  </tbody>\n",
       "</table>\n",
       "</div>"
      ],
      "text/plain": [
       "  dmIndicator Gender  Age  PreDB  BMICategory BPCategory Smoker\n",
       "0       False      M   56  False   Overweight   Elevated  False\n",
       "1       False      F   60  False       Normal     HTN_S1  False\n",
       "2       False      F   87  False  Underweight     Normal  False\n",
       "3       False      M   42  False   Overweight   Elevated  False\n",
       "4       False      F   84  False       Normal     HTN_S1  False"
      ]
     },
     "execution_count": 73,
     "metadata": {},
     "output_type": "execute_result"
    }
   ],
   "source": [
    "patients = pd.merge(transcripts, smokingStatus, on='PatientGuid', how='left')\n",
    "patients.fillna(False, inplace=True)\n",
    "patients.drop(['PatientGuid'], axis=1, inplace=True)\n",
    "patients.head()"
   ]
  },
  {
   "cell_type": "code",
   "execution_count": 74,
   "metadata": {},
   "outputs": [
    {
     "name": "stdout",
     "output_type": "stream",
     "text": [
      "Index(['Intercept', 'C(Gender)[T.M]', 'C(BMICategory)[T.Obese]',\n",
      "       'C(BMICategory)[T.Overweight]', 'C(BMICategory)[T.Underweight]',\n",
      "       'C(BPCategory)[T.HTN_S1]', 'C(BPCategory)[T.HTN_S2]',\n",
      "       'C(BPCategory)[T.Hypertensive_Crisis]', 'C(BPCategory)[T.Normal]',\n",
      "       'PreDB[T.True]', 'Smoker[T.True]', 'Age'],\n",
      "      dtype='object')\n"
     ]
    }
   ],
   "source": [
    "# create dataframes with an intercept column and dummy variables for\n",
    "# occupation and occupation_husb\n",
    "y, X = dmatrices('dmIndicator ~ C(Gender) + C(BMICategory) + C(BPCategory) + Age + PreDB + Smoker',\n",
    "                  patients, return_type=\"dataframe\")\n",
    "print(X.columns)"
   ]
  },
  {
   "cell_type": "code",
   "execution_count": 75,
   "metadata": {},
   "outputs": [],
   "source": [
    "y = y.iloc[:, 1].astype('bool')"
   ]
  },
  {
   "cell_type": "code",
   "execution_count": 87,
   "metadata": {},
   "outputs": [
    {
     "data": {
      "text/plain": [
       "0.80749899477281861"
      ]
     },
     "execution_count": 87,
     "metadata": {},
     "output_type": "execute_result"
    }
   ],
   "source": [
    "model = LogisticRegression()\n",
    "model = model.fit(X, y)\n",
    "\n",
    "# check the accuracy on the training set\n",
    "model.score(X, y)"
   ]
  },
  {
   "cell_type": "code",
   "execution_count": 50,
   "metadata": {},
   "outputs": [
    {
     "data": {
      "text/plain": [
       "0.19141449683321604"
      ]
     },
     "execution_count": 50,
     "metadata": {},
     "output_type": "execute_result"
    }
   ],
   "source": [
    "y.mean()"
   ]
  },
  {
   "cell_type": "code",
   "execution_count": 77,
   "metadata": {},
   "outputs": [
    {
     "data": {
      "text/html": [
       "<div>\n",
       "<table border=\"1\" class=\"dataframe\">\n",
       "  <thead>\n",
       "    <tr style=\"text-align: right;\">\n",
       "      <th></th>\n",
       "      <th>0</th>\n",
       "      <th>1</th>\n",
       "    </tr>\n",
       "  </thead>\n",
       "  <tbody>\n",
       "    <tr>\n",
       "      <th>0</th>\n",
       "      <td>Intercept</td>\n",
       "      <td>[-2.56887956807]</td>\n",
       "    </tr>\n",
       "    <tr>\n",
       "      <th>1</th>\n",
       "      <td>C(Gender)[T.M]</td>\n",
       "      <td>[0.314407155336]</td>\n",
       "    </tr>\n",
       "    <tr>\n",
       "      <th>2</th>\n",
       "      <td>C(BMICategory)[T.Obese]</td>\n",
       "      <td>[1.23689555874]</td>\n",
       "    </tr>\n",
       "    <tr>\n",
       "      <th>3</th>\n",
       "      <td>C(BMICategory)[T.Overweight]</td>\n",
       "      <td>[0.59413920651]</td>\n",
       "    </tr>\n",
       "    <tr>\n",
       "      <th>4</th>\n",
       "      <td>C(BMICategory)[T.Underweight]</td>\n",
       "      <td>[-0.587308488861]</td>\n",
       "    </tr>\n",
       "    <tr>\n",
       "      <th>5</th>\n",
       "      <td>C(BPCategory)[T.HTN_S1]</td>\n",
       "      <td>[0.0825752818868]</td>\n",
       "    </tr>\n",
       "    <tr>\n",
       "      <th>6</th>\n",
       "      <td>C(BPCategory)[T.HTN_S2]</td>\n",
       "      <td>[0.247437982128]</td>\n",
       "    </tr>\n",
       "    <tr>\n",
       "      <th>7</th>\n",
       "      <td>C(BPCategory)[T.Hypertensive_Crisis]</td>\n",
       "      <td>[-0.055363929218]</td>\n",
       "    </tr>\n",
       "    <tr>\n",
       "      <th>8</th>\n",
       "      <td>C(BPCategory)[T.Normal]</td>\n",
       "      <td>[-0.0464614393761]</td>\n",
       "    </tr>\n",
       "    <tr>\n",
       "      <th>9</th>\n",
       "      <td>PreDB[T.True]</td>\n",
       "      <td>[0.539522108099]</td>\n",
       "    </tr>\n",
       "    <tr>\n",
       "      <th>10</th>\n",
       "      <td>Smoker[T.True]</td>\n",
       "      <td>[-0.0343580368173]</td>\n",
       "    </tr>\n",
       "    <tr>\n",
       "      <th>11</th>\n",
       "      <td>Age</td>\n",
       "      <td>[0.0463446774214]</td>\n",
       "    </tr>\n",
       "  </tbody>\n",
       "</table>\n",
       "</div>"
      ],
      "text/plain": [
       "                                       0                   1\n",
       "0                              Intercept    [-2.56887956807]\n",
       "1                         C(Gender)[T.M]    [0.314407155336]\n",
       "2                C(BMICategory)[T.Obese]     [1.23689555874]\n",
       "3           C(BMICategory)[T.Overweight]     [0.59413920651]\n",
       "4          C(BMICategory)[T.Underweight]   [-0.587308488861]\n",
       "5                C(BPCategory)[T.HTN_S1]   [0.0825752818868]\n",
       "6                C(BPCategory)[T.HTN_S2]    [0.247437982128]\n",
       "7   C(BPCategory)[T.Hypertensive_Crisis]   [-0.055363929218]\n",
       "8                C(BPCategory)[T.Normal]  [-0.0464614393761]\n",
       "9                          PreDB[T.True]    [0.539522108099]\n",
       "10                        Smoker[T.True]  [-0.0343580368173]\n",
       "11                                   Age   [0.0463446774214]"
      ]
     },
     "execution_count": 77,
     "metadata": {},
     "output_type": "execute_result"
    }
   ],
   "source": [
    "pd.DataFrame(list(zip(X.columns, np.transpose(model.coef_))))"
   ]
  },
  {
   "cell_type": "code",
   "execution_count": 53,
   "metadata": {},
   "outputs": [],
   "source": [
    "train_X, test_X, train_y, test_y = train_test_split(X, y, train_size=0.8, random_state=seed)"
   ]
  },
  {
   "cell_type": "code",
   "execution_count": 54,
   "metadata": {},
   "outputs": [
    {
     "name": "stdout",
     "output_type": "stream",
     "text": [
      "Accuracy = 0.81\n"
     ]
    }
   ],
   "source": [
    "lr = LogisticRegression()\n",
    "lr.fit(train_X, train_y)\n",
    "\n",
    "print(\"Accuracy = {:.2f}\".format(lr.score(test_X, test_y)))"
   ]
  },
  {
   "cell_type": "code",
   "execution_count": 55,
   "metadata": {},
   "outputs": [
    {
     "name": "stdout",
     "output_type": "stream",
     "text": [
      "0.807035175879\n",
      "0.713352267546\n"
     ]
    }
   ],
   "source": [
    "# predict class labels for the test set\n",
    "predicted = model.predict(test_X)\n",
    "#print(predicted)\n",
    "# generate class probabilities\n",
    "probs = model.predict_proba(test_X)\n",
    "#print(probs)\n",
    "\n",
    "print(metrics.accuracy_score(test_y, predicted))\n",
    "print(metrics.roc_auc_score(test_y, probs[:, 1]))"
   ]
  },
  {
   "cell_type": "code",
   "execution_count": 56,
   "metadata": {},
   "outputs": [
    {
     "name": "stdout",
     "output_type": "stream",
     "text": [
      "[[1595   22]\n",
      " [ 362   11]]\n",
      "             precision    recall  f1-score   support\n",
      "\n",
      "      False       0.82      0.99      0.89      1617\n",
      "       True       0.33      0.03      0.05       373\n",
      "\n",
      "avg / total       0.72      0.81      0.74      1990\n",
      "\n"
     ]
    }
   ],
   "source": [
    "print(metrics.confusion_matrix(test_y, predicted))\n",
    "print(metrics.classification_report(test_y, predicted))"
   ]
  },
  {
   "cell_type": "code",
   "execution_count": 57,
   "metadata": {},
   "outputs": [
    {
     "name": "stdout",
     "output_type": "stream",
     "text": [
      "[ 0.80421687  0.8002008   0.812249    0.80502513  0.80684105  0.80684105\n",
      "  0.80382294  0.79577465  0.80885312  0.80985915]\n",
      "0.805368374401\n"
     ]
    }
   ],
   "source": [
    "# evaluate the model using 10-fold cross-validation\n",
    "scores = cross_val_score(LogisticRegression(), X, y, scoring='accuracy', cv=10)\n",
    "print(scores)\n",
    "print(scores.mean())"
   ]
  },
  {
   "cell_type": "code",
   "execution_count": 83,
   "metadata": {},
   "outputs": [
    {
     "data": {
      "text/plain": [
       "<seaborn.axisgrid.PairGrid at 0x7f43bebf6cc0>"
      ]
     },
     "execution_count": 83,
     "metadata": {},
     "output_type": "execute_result"
    },
    {
     "data": {
      "image/png": "[encoded data removed]",
      "text/plain": [
       "<matplotlib.figure.Figure at 0x7f43bebf6a58>"
      ]
     },
     "metadata": {},
     "output_type": "display_data"
    }
   ],
   "source": [
    "# import matplotlib.pyplot as plt\n",
    "\n",
    "# g = sns.PairGrid(patients, hue=\"dmIndicator\") \n",
    "# g.map_upper(sns.regplot) \n",
    "# g.map_lower(sns.residplot) \n",
    "# g.map_diag(plt.hist) \n",
    "# for ax in g.axes.flat: \n",
    "#     plt.setp(ax.get_xticklabels(), rotation=45) \n",
    "# g.add_legend() \n",
    "# g.set(alpha=0.5)"
   ]
  },
  {
   "cell_type": "code",
   "execution_count": 86,
   "metadata": {},
   "outputs": [
    {
     "data": {
      "image/png": "[encoded data removed]",
      "text/plain": [
       "<matplotlib.figure.Figure at 0x7f43bd4fa7f0>"
      ]
     },
     "metadata": {},
     "output_type": "display_data"
    }
   ],
   "source": [
    "\n",
    "# # Show the survival proability as a function of age and sex\n",
    "# g = sns.lmplot(x=\"age\", y=\"survived\", col=\"sex\", hue=\"sex\", data=df,\n",
    "#                palette=pal, y_jitter=.02, logistic=True)\n",
    "# g.set(xlim=(0, 80), ylim=(-.05, 1.05))\n",
    "\n",
    "# Make a custom palette with gendered colors\n",
    "# pal = dict(male=\"#6495ED\", female=\"#F08080\")\n",
    "\n",
    "\n",
    "# # Show the survival proability as a function of age and sex\n",
    "# g = sns.lmplot(x=\"BMICategory\", y=\"dmIndicator\",  data=X,\n",
    "#                palette=pal, y_jitter=.02, logistic=True)\n",
    "# g.set(xlim=(0, 80), ylim=(-.05, 1.05))\n",
    "\n",
    "\n",
    "sns.violinplot(x=\"BMICategory\", y=\"dmIndicator\", hue=\"BPCategory\", data=patients);\n"
   ]
  }
 ],
 "metadata": {
  "kernelspec": {
   "display_name": "Python 3",
   "language": "python",
   "name": "python3"
  },
  "language_info": {
   "codemirror_mode": {
    "name": "ipython",
    "version": 3
   },
   "file_extension": ".py",
   "mimetype": "text/x-python",
   "name": "python",
   "nbconvert_exporter": "python",
   "pygments_lexer": "ipython3",
   "version": "3.6.3"
  }
 },
 "nbformat": 4,
 "nbformat_minor": 2
}
