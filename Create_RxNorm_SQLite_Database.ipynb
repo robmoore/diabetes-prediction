{
  "nbformat": 4,
  "nbformat_minor": 0,
  "metadata": {
    "colab": {
      "name": "Create RxNorm SQLite Database.ipynb",
      "version": "0.3.2",
      "provenance": [],
      "collapsed_sections": [],
      "include_colab_link": true
    },
    "kernelspec": {
      "display_name": "Python 3",
      "language": "python",
      "name": "python3"
    }
  },
  "cells": [
    {
      "cell_type": "markdown",
      "metadata": {
        "id": "view-in-github",
        "colab_type": "text"
      },
      "source": [
        "[View in Colaboratory](https://colab.research.google.com/github/robmoore/diabetes-prediction/blob/master/Create_RxNorm_SQLite_Database.ipynb)"
      ]
    },
    {
      "metadata": {
        "id": "ZL-Orutc5AMS",
        "colab_type": "code",
        "colab": {}
      },
      "cell_type": "code",
      "source": [
        "!apt install sqlite3 -q"
      ],
      "execution_count": 0,
      "outputs": []
    },
    {
      "metadata": {
        "id": "Gwx_d2qLgEKs",
        "colab_type": "code",
        "colab": {}
      },
      "cell_type": "code",
      "source": [
        "import getpass\n",
        "import sqlite3\n",
        "import pandas as pd\n",
        "import numpy as np\n",
        "\n",
        "from contextlib import closing\n",
        "\n",
        "# Data uploaded to Google Drive below. Assumes the existence of a folder named 'Diabetes-Prediction' in your Google Drive account.\n",
        "from google.colab import drive\n",
        "drive.mount('/content/gdrive')"
      ],
      "execution_count": 0,
      "outputs": []
    },
    {
      "metadata": {
        "id": "Fm2UhauYSIQD",
        "colab_type": "code",
        "colab": {}
      },
      "cell_type": "code",
      "source": [
        "![ -f \"terminology_download_script.zip\" ] || (wget -q -N https://download.nlm.nih.gov/rxnorm/terminology_download_script.zip && unzip -o terminology_download_script.zip curl-uts-download.sh uts.nlm.nih.gov.crt && chmod +x curl-uts-download.sh)"
      ],
      "execution_count": 0,
      "outputs": []
    },
    {
      "metadata": {
        "id": "54xEHrB1tbwh",
        "colab_type": "text"
      },
      "cell_type": "markdown",
      "source": [
        "In order to download the RxNorm data required below, you'll need to have an [account](https://uts.nlm.nih.gov//license.html). Please enter your credentials below."
      ]
    },
    {
      "metadata": {
        "id": "ZC2aZKlPgA5L",
        "colab_type": "code",
        "colab": {}
      },
      "cell_type": "code",
      "source": [
        "uts_username = getpass.getpass(prompt='Enter your UTS username: ')\n",
        "uts_password = getpass.getpass(prompt='Enter your UTS password: ')\n",
        "# Insert username and password and fix issue with Windows variable reference so logout occurs\n",
        "!sed -i'' \"s/UTS_USERNAME=.*$/UTS_USERNAME=\\\"{uts_username}\\\"/;s/UTS_PASSWORD=.*$/UTS_PASSWORD=\\\"{uts_password}\\\"/;s/%\\([^%]*\\)%/\\$\\1/g\" curl-uts-download.sh"
      ],
      "execution_count": 0,
      "outputs": []
    },
    {
      "metadata": {
        "id": "_XQHFQA7L86l",
        "colab_type": "code",
        "colab": {}
      },
      "cell_type": "code",
      "source": [
        "rxnorm_fn='RxNorm_full_current.zip'\n",
        "![ -f {rxnorm_fn} ] || (./curl-uts-download.sh https://download.nlm.nih.gov/umls/kss/rxnorm/{rxnorm_fn} > /dev/null && zip -T {rxnorm_fn})"
      ],
      "execution_count": 0,
      "outputs": []
    },
    {
      "metadata": {
        "id": "RgqWPhtPugCL",
        "colab_type": "code",
        "colab": {}
      },
      "cell_type": "code",
      "source": [
        "!rm rxnorm.db"
      ],
      "execution_count": 0,
      "outputs": []
    },
    {
      "metadata": {
        "id": "ipgJSFZXSm39",
        "colab_type": "code",
        "colab": {}
      },
      "cell_type": "code",
      "source": [
        "%%bash\n",
        "if [ ! -d \"rrf\" ]; then\n",
        "  echo \"Unzipping RxNorm file\"\n",
        "  unzip -o RxNorm_full_current.zip rrf/RXNCONSO.RRF rrf/RXNREL.RRF rrf/RXNSAT.RRF scripts/mysql/*.sql\n",
        "fi\n",
        "\n",
        "# Mostly stolen from https://github.com/chb/py-umls/blob/master/databases/rxnorm.sh\n",
        "if [ ! -e \"rxnorm.db\" ]; then\n",
        "  echo \"Creating tables\"\n",
        "  sqlite3 rxnorm.db < scripts/mysql/Table_scripts_mysql_rxn.sql\n",
        "\n",
        "  for f in rrf/*.RRF; do\n",
        "    echo \"-> Pre-processing ${f}\"\n",
        "    # strip last pipe to avoid warnings, escape quotes with double quotes and also by wrapping all fields in quotes\n",
        "    sed 's/|$//;s/\"/\"\"/g;s/[^|]*/\"&\"/g' \"$f\" > \"$f.prep\"\n",
        "    table=$(basename \"${f%.RRF}\")\n",
        "    echo \"-> Importing $table\"\n",
        "    sqlite3 rxnorm.db \".import '$f.prep' '$table'\"\n",
        "  done\n",
        "\n",
        "  echo \"Creating indicies\"\n",
        "  sqlite3 rxnorm.db < scripts/mysql/Indexes_mysql_rxn.sql\n",
        "\n",
        "  echo \"Dropping unused tables\"\n",
        "  grep DROP scripts/mysql/Table_scripts_mysql_rxn.sql | grep -v 'RXNREL\\|RXNSAT\\|RXNCONSO' | sqlite3 rxnorm.db\n",
        "fi"
      ],
      "execution_count": 0,
      "outputs": []
    },
    {
      "metadata": {
        "id": "o2vA7XGoB2m3",
        "colab_type": "code",
        "colab": {}
      },
      "cell_type": "code",
      "source": [
        "def processNdcs(ndcs):\n",
        "  atvs = (','.join('\"{0}\"'.format(ndc) for ndc in ndcs))\n",
        "  with closing(sqlite3.connect('file:rxnorm.db?mode=ro', uri=True)) as conn: \n",
        "    return pd.read_sql_query(\"\"\"\n",
        "SELECT rel1.RXCUI2 AS RXCUI, rel2.RXCUI1 AS INGREDIENT\n",
        "FROM RXNREL rel1\n",
        "JOIN RXNCONSO con ON rel1.RXCUI1 = con.RXCUI AND TTY='SCDC'\n",
        "JOIN RXNREL rel2 ON rel1.RXCUI1 = rel2.RXCUI2 AND rel2.RELA = 'has_ingredient'\n",
        "WHERE rel1.RXCUI2 IN (SELECT RXCUI FROM RXNSAT WHERE ATN = 'NDC' AND ATV IN ({})) AND rel1.RELA = 'consists_of' \n",
        "ORDER BY RXCUI\n",
        "\"\"\".format(atvs), conn)"
      ],
      "execution_count": 0,
      "outputs": []
    },
    {
      "metadata": {
        "id": "h_eZIefFzJle",
        "colab_type": "code",
        "colab": {}
      },
      "cell_type": "code",
      "source": [
        "ndcs = [\"23490544301\", \"00143126730\", \"00456069801\", \"60432060504\", \"00247211730\", \"00247028100\", \"00093084015\", \"00168000215\", \"00173045301\"]\n",
        "\n",
        "ingredients = processNdcs(ndcs)\n",
        "print(ingredients)"
      ],
      "execution_count": 0,
      "outputs": []
    },
    {
      "metadata": {
        "id": "ruFOf9aOrRZ7",
        "colab_type": "code",
        "colab": {}
      },
      "cell_type": "code",
      "source": [
        "!rm -rf rrf scripts curl-uts-* terminology_* uts* {rxnorm_fn}\n",
        "!cp rxnorm.db /content/gdrive/My\\ Drive/Diabetes-Prediction/"
      ],
      "execution_count": 0,
      "outputs": []
    }
  ]
}