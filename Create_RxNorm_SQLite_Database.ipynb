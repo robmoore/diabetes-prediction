{
  "nbformat": 4,
  "nbformat_minor": 0,
  "metadata": {
    "colab": {
      "name": "Create RxNorm SQLite Database.ipynb",
      "version": "0.3.2",
      "provenance": [],
      "collapsed_sections": [],
      "include_colab_link": true
    },
    "kernelspec": {
      "display_name": "Python 3",
      "language": "python",
      "name": "python3"
    }
  },
  "cells": [
    {
      "cell_type": "markdown",
      "metadata": {
        "id": "view-in-github",
        "colab_type": "text"
      },
      "source": [
        "[View in Colaboratory](https://colab.research.google.com/github/robmoore/diabetes-prediction/blob/master/Create_RxNorm_SQLite_Database.ipynb)"
      ]
    },
    {
      "metadata": {
        "id": "ZL-Orutc5AMS",
        "colab_type": "code",
        "colab": {
          "base_uri": "https://localhost:8080/",
          "height": 102
        },
        "outputId": "8069ee6a-4925-41c6-ddc8-c1b011b010fa"
      },
      "cell_type": "code",
      "source": [
        "!apt install sqlite3 -q"
      ],
      "execution_count": 16,
      "outputs": [
        {
          "output_type": "stream",
          "text": [
            "Reading package lists...\n",
            "Building dependency tree...\n",
            "Reading state information...\n",
            "sqlite3 is already the newest version (3.19.3-3).\n",
            "0 upgraded, 0 newly installed, 0 to remove and 0 not upgraded.\n"
          ],
          "name": "stdout"
        }
      ]
    },
    {
      "metadata": {
        "id": "Gwx_d2qLgEKs",
        "colab_type": "code",
        "colab": {
          "base_uri": "https://localhost:8080/",
          "height": 105
        },
        "outputId": "7915403b-4bb0-430f-882e-97980d2913e3"
      },
      "cell_type": "code",
      "source": [
        "import getpass\n",
        "import sqlite3\n",
        "import pandas as pd\n",
        "import numpy as np\n",
        "\n",
        "from contextlib import closing\n",
        "\n",
        "# Data uploaded to Google Drive below. Assumes the existence of a folder named 'Diabetes-Prediction' in your Google Drive account.\n",
        "from google.colab import drive\n",
        "drive.mount('/content/gdrive')"
      ],
      "execution_count": 4,
      "outputs": [
        {
          "output_type": "stream",
          "text": [
            "Go to this URL in a browser: https://accounts.google.com/o/oauth2/auth?client_id=947318989803-6bn6qk8qdgf4n4g3pfee6491hc0brc4i.apps.googleusercontent.com&redirect_uri=urn%3Aietf%3Awg%3Aoauth%3A2.0%3Aoob&scope=email%20https%3A%2F%2Fwww.googleapis.com%2Fauth%2Fdocs.test%20https%3A%2F%2Fwww.googleapis.com%2Fauth%2Fdrive%20https%3A%2F%2Fwww.googleapis.com%2Fauth%2Fdrive.photos.readonly%20https%3A%2F%2Fwww.googleapis.com%2Fauth%2Fpeopleapi.readonly&response_type=code\n",
            "Enter your authorization code:\n",
            "··········\n",
            "Mounted at /content/gdrive\n"
          ],
          "name": "stdout"
        }
      ]
    },
    {
      "metadata": {
        "id": "Fm2UhauYSIQD",
        "colab_type": "code",
        "colab": {}
      },
      "cell_type": "code",
      "source": [
        "![ -f \"terminology_download_script.zip\" ] || (wget -q -N https://download.nlm.nih.gov/rxnorm/terminology_download_script.zip && unzip -o terminology_download_script.zip curl-uts-download.sh uts.nlm.nih.gov.crt && chmod +x curl-uts-download.sh)"
      ],
      "execution_count": 0,
      "outputs": []
    },
    {
      "metadata": {
        "id": "54xEHrB1tbwh",
        "colab_type": "text"
      },
      "cell_type": "markdown",
      "source": [
        "In order to download the RxNorm data required below, you'll need to have an [account](https://uts.nlm.nih.gov//license.html). Please enter your credentials below."
      ]
    },
    {
      "metadata": {
        "id": "ZC2aZKlPgA5L",
        "colab_type": "code",
        "colab": {
          "base_uri": "https://localhost:8080/",
          "height": 51
        },
        "outputId": "b004eabb-3b5a-4b6d-fa27-e907a2a500c0"
      },
      "cell_type": "code",
      "source": [
        "uts_username = getpass.getpass(prompt='Enter your UTS username: ')\n",
        "uts_password = getpass.getpass(prompt='Enter your UTS password: ')\n",
        "# Insert username and password and fix issue with Windows variable reference so logout occurs\n",
        "!sed -i'' \"s/UTS_USERNAME=.*$/UTS_USERNAME=\\\"{uts_username}\\\"/;s/UTS_PASSWORD=.*$/UTS_PASSWORD=\\\"{uts_password}\\\"/;s/%\\([^%]*\\)%/\\$\\1/g\" curl-uts-download.sh"
      ],
      "execution_count": 6,
      "outputs": [
        {
          "output_type": "stream",
          "text": [
            "Enter your UTS username: ··········\n",
            "Enter your UTS password: ··········\n"
          ],
          "name": "stdout"
        }
      ]
    },
    {
      "metadata": {
        "id": "_XQHFQA7L86l",
        "colab_type": "code",
        "colab": {
          "base_uri": "https://localhost:8080/",
          "height": 187
        },
        "outputId": "97b2d507-dd6f-4f8b-df2b-62f63087610e"
      },
      "cell_type": "code",
      "source": [
        "rxnorm_fn='RxNorm_full_current.zip'\n",
        "![ -f {rxnorm_fn} ] || (./curl-uts-download.sh https://download.nlm.nih.gov/umls/kss/rxnorm/{rxnorm_fn} > /dev/null && zip -T {rxnorm_fn})"
      ],
      "execution_count": 7,
      "outputs": [
        {
          "output_type": "stream",
          "text": [
            "  % Total    % Received % Xferd  Average Speed   Time    Time     Time  Current\n",
            "                                 Dload  Upload   Total   Spent    Left  Speed\n",
            "100 10284    0 10284    0     0  10284      0 --:--:-- --:--:-- --:--:-- 67215\n",
            "  % Total    % Received % Xferd  Average Speed   Time    Time     Time  Current\n",
            "                                 Dload  Upload   Total   Spent    Left  Speed\n",
            "100   313  100   313    0     0    313      0  0:00:01 --:--:--  0:00:01  2301\n",
            "  0     0    0     0    0     0      0      0 --:--:-- --:--:-- --:--:--     0\n",
            "100   252  100   252    0     0    252      0  0:00:01 --:--:--  0:00:01   252\n",
            "100  237M  100  237M    0     0  4512k      0  0:00:54  0:00:54 --:--:-- 4514k\n",
            "test of RxNorm_full_current.zip OK\n"
          ],
          "name": "stdout"
        }
      ]
    },
    {
      "metadata": {
        "id": "RgqWPhtPugCL",
        "colab_type": "code",
        "colab": {
          "base_uri": "https://localhost:8080/",
          "height": 34
        },
        "outputId": "e9a62a41-e3cb-42a9-86fc-4599531a97fc"
      },
      "cell_type": "code",
      "source": [
        "!rm rxnorm.db"
      ],
      "execution_count": 8,
      "outputs": [
        {
          "output_type": "stream",
          "text": [
            "rm: cannot remove 'rxnorm.db': No such file or directory\n"
          ],
          "name": "stdout"
        }
      ]
    },
    {
      "metadata": {
        "id": "ipgJSFZXSm39",
        "colab_type": "code",
        "colab": {
          "base_uri": "https://localhost:8080/",
          "height": 170
        },
        "outputId": "cd8d8f42-54c9-4b06-aed9-5194a8d7a08d"
      },
      "cell_type": "code",
      "source": [
        "%%bash\n",
        "if [ ! -d \"rrf\" ]; then\n",
        "  echo \"Unzipping RxNorm file\"\n",
        "  unzip -o RxNorm_full_current.zip rrf/RXNCONSO.RRF rrf/RXNREL.RRF rrf/RXNSAT.RRF scripts/mysql/*.sql\n",
        "fi\n",
        "\n",
        "# Mostly stolen from https://github.com/chb/py-umls/blob/master/databases/rxnorm.sh\n",
        "if [ ! -e \"rxnorm.db\" ]; then\n",
        "  echo \"Creating tables\"\n",
        "  sqlite3 rxnorm.db < scripts/mysql/Table_scripts_mysql_rxn.sql\n",
        "\n",
        "  for f in rrf/*.RRF; do\n",
        "    echo \"-> Pre-processing ${f}\"\n",
        "    # strip last pipe to avoid warnings, escape quotes with double quotes and also by wrapping all fields in quotes\n",
        "    sed 's/|$//;s/\"/\"\"/g;s/[^|]*/\"&\"/g' \"$f\" > \"$f.prep\"\n",
        "    table=$(basename \"${f%.RRF}\")\n",
        "    echo \"-> Importing $table\"\n",
        "    sqlite3 rxnorm.db \".import '$f.prep' '$table'\"\n",
        "  done\n",
        "\n",
        "  echo \"Creating indicies\"\n",
        "  sqlite3 rxnorm.db < scripts/mysql/Indexes_mysql_rxn.sql\n",
        "\n",
        "  echo \"Dropping unused tables\"\n",
        "  grep DROP scripts/mysql/Table_scripts_mysql_rxn.sql | grep -v 'RXNREL\\|RXNSAT\\|RXNCONSO' | sqlite3 rxnorm.db\n",
        "fi"
      ],
      "execution_count": 13,
      "outputs": [
        {
          "output_type": "stream",
          "text": [
            "Creating tables\n",
            "-> Pre-processing rrf/RXNCONSO.RRF\n",
            "-> Importing RXNCONSO\n",
            "-> Pre-processing rrf/RXNREL.RRF\n",
            "-> Importing RXNREL\n",
            "-> Pre-processing rrf/RXNSAT.RRF\n",
            "-> Importing RXNSAT\n",
            "Creating indicies\n",
            "Dropping unused tables\n"
          ],
          "name": "stdout"
        }
      ]
    },
    {
      "metadata": {
        "id": "o2vA7XGoB2m3",
        "colab_type": "code",
        "colab": {}
      },
      "cell_type": "code",
      "source": [
        "def processNdcs(ndcs):\n",
        "  atvs = (','.join('\"{0}\"'.format(ndc) for ndc in ndcs))\n",
        "  with closing(sqlite3.connect('file:rxnorm.db?mode=ro', uri=True)) as conn: \n",
        "    return pd.read_sql_query(\"\"\"\n",
        "SELECT rel1.RXCUI2 AS RXCUI, rel2.RXCUI1 AS INGREDIENT\n",
        "FROM RXNREL rel1\n",
        "JOIN RXNCONSO con ON rel1.RXCUI1 = con.RXCUI AND TTY='SCDC'\n",
        "JOIN RXNREL rel2 ON rel1.RXCUI1 = rel2.RXCUI2 AND rel2.RELA = 'has_ingredient'\n",
        "WHERE rel1.RXCUI2 IN (SELECT RXCUI FROM RXNSAT WHERE ATN = 'NDC' AND ATV IN ({})) AND rel1.RELA = 'consists_of' \n",
        "ORDER BY RXCUI\n",
        "\"\"\".format(atvs), conn)"
      ],
      "execution_count": 0,
      "outputs": []
    },
    {
      "metadata": {
        "id": "h_eZIefFzJle",
        "colab_type": "code",
        "colab": {
          "base_uri": "https://localhost:8080/",
          "height": 204
        },
        "outputId": "ff2e9413-4413-4a3e-face-f6a1a801e7be"
      },
      "cell_type": "code",
      "source": [
        "ndcs = [\"23490544301\", \"00143126730\", \"00456069801\", \"60432060504\", \"00247211730\", \"00247028100\", \"00093084015\", \"00168000215\", \"00173045301\"]\n",
        "\n",
        "ingredients = processNdcs(ndcs)\n",
        "print(ingredients)"
      ],
      "execution_count": 15,
      "outputs": [
        {
          "output_type": "stream",
          "text": [
            "     RXCUI INGREDIENT\n",
            "0  1085686      10759\n",
            "1  1248057       8745\n",
            "2  1248057       8163\n",
            "3  1797933      41126\n",
            "4   197604       3407\n",
            "5   203088       6135\n",
            "6   206805      28889\n",
            "7   314076      29046\n",
            "8   351906      18993\n",
            "9   352272     321988\n"
          ],
          "name": "stdout"
        }
      ]
    },
    {
      "metadata": {
        "id": "ruFOf9aOrRZ7",
        "colab_type": "code",
        "colab": {}
      },
      "cell_type": "code",
      "source": [
        "!rm -rf rrf scripts curl-uts-* terminology_* uts* {rxnorm_fn}\n",
        "!cp rxnorm.db /content/gdrive/My\\ Drive/Diabetes-Prediction/"
      ],
      "execution_count": 0,
      "outputs": []
    }
  ]
}