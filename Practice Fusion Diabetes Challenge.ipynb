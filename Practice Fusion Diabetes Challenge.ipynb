{
 "cells": [
  {
   "cell_type": "code",
   "execution_count": 249,
   "metadata": {},
   "outputs": [],
   "source": [
    "%%bash\n",
    "# These files appear to be from the original competition (that is unmodified)\n",
    "wget -q -c https://raw.githubusercontent.com/yasminlucero/Kaggle/master/Data/compDataAsSQLiteDB/compData.db\n",
    "wget -q -c https://raw.githubusercontent.com/yasminlucero/Kaggle/master/Data/compDataAsSQLiteDB/compData.sql"
   ]
  },
  {
   "cell_type": "code",
   "execution_count": 250,
   "metadata": {},
   "outputs": [],
   "source": [
    "%matplotlib inline\n",
    "import seaborn as sns\n",
    "\n",
    "import sqlite3\n",
    "import pandas as pd\n",
    "import numpy as np\n",
    "\n",
    "from contextlib import closing\n",
    "\n",
    "from sklearn.model_selection import train_test_split\n",
    "\n",
    "from keras.models import Sequential\n",
    "from keras.layers.core import Dense, Activation\n",
    "from keras.utils import np_utils\n",
    "\n",
    "seed = 13431\n",
    "np.random.seed(seed)\n",
    "\n",
    "with closing(sqlite3.connect('file:compData.db?mode=ro', uri=True)) as conn:    \n",
    "    patientTranscripts = pd.read_sql_query(\"\"\"\n",
    "    SELECT PatientGuid,\n",
    "        dmIndicator,\n",
    "        Gender,\n",
    "        YearOfBirth,\n",
    "        VisitYear,\n",
    "        CASE WHEN BMI = 0 THEN NULL ELSE BMI END AS BMI,\n",
    "        CASE WHEN SystolicBP = \"NULL\" THEN NULL ELSE SystolicBP END AS SystolicBP,\n",
    "        CASE WHEN DiastolicBP = \"NULL\" THEN NULL ELSE DiastolicBP END AS DiastolicBP\n",
    "    FROM training_patientTranscript\n",
    "\"\"\", conn)\n",
    "  \n",
    "# patientTranscripts.info()\n",
    "# patientTranscripts.describe()"
   ]
  },
  {
   "cell_type": "code",
   "execution_count": 251,
   "metadata": {},
   "outputs": [],
   "source": [
    "# https://www.cdc.gov/healthyweight/assessing/index.html\n",
    "def translateBMI(bmi):\n",
    "    if bmi <  18.5:\n",
    "        return 0 # \"Underweight\"\n",
    "    elif 18.5 <= bmi <= 24.9:\n",
    "        return 1 # \"Normal\"\n",
    "    elif 25 <= bmi <= 29.9:\n",
    "        return 2 # \"Overweight\"\n",
    "    else:\n",
    "        return 3 # \"Obese\"\n",
    "        \n",
    "# https://www.heart.org/HEARTORG/Conditions/HighBloodPressure/KnowYourNumbers/Understanding-Blood-Pressure-Readings_UCM_301764_Article.jsp\n",
    "def translateBP(systolicBP, diastolicBP):\n",
    "    if systolicBP < 120 and diastolicBP < 80:\n",
    "        return 0 # \"Normal\"\n",
    "    elif systolicBP <= 129 and diastolicBP < 80:\n",
    "        return 1 # \"Elevated\"\n",
    "    elif systolicBP <= 139 or 80 <= diastolicBP <= 89:\n",
    "        return 2 #  \"HTN_S1\"\n",
    "    elif 140 <= systolicBP or 90 <= diastolicBP:\n",
    "        return 3 # \"HTN_S2\"\n",
    "    else:\n",
    "        return 4 # \"Hypertensive_Crisis\"\n",
    "\n",
    "def translateGender(gender):\n",
    "    if gender == \"F\":\n",
    "        return 0\n",
    "    elif gender == \"M\":\n",
    "        return 1\n",
    "    else:\n",
    "        return 2\n",
    "\n",
    "def calcAge(visitYear, yearOfBirth):\n",
    "    return visitYear - yearOfBirth\n",
    "\n",
    "def translateDmIndicator(dmIndicator):\n",
    "    return np.True_ if dmIndicator == 0 else np.False_\n",
    "\n",
    "def processPatientTranscripts(pt):\n",
    "    pt = pt.sort_values(['VisitYear'],  ascending=False)\n",
    "    pt = pt.groupby('PatientGuid', as_index=False).agg(lambda x: np.nan if x.first_valid_index() is None else x.loc[x.first_valid_index()])\n",
    "\n",
    "    #pt[\"dmIndicator\"] = patientTranscripts.apply(lambda row: translateDmIndicator(row.dmIndicator), axis=1)\n",
    "    #pt[\"Gender\"] = patientTranscripts[\"Gender\"].astype('category')\n",
    "    pt[\"Gender\"] = pt.apply(lambda row: translateGender(row.Gender), axis=1).astype('category')\n",
    "    pt['Age'] = pt.apply(lambda row: calcAge(row.VisitYear, row.YearOfBirth), axis=1)\n",
    "    #pt['BMICategory'] = pt.apply(lambda row: translateBMI(row.BMI), axis=1).astype('category')\n",
    "    #pt['BPCategory'] = pt.apply(lambda row: translateBP(row.SystolicBP, row.DiastolicBP), axis=1).astype('category')\n",
    "\n",
    "    pt.drop(['VisitYear', 'PatientGuid', 'YearOfBirth'], axis=1, inplace=True)\n",
    "    pt.dropna(how='any', inplace=True)\n",
    "    \n",
    "    return pt"
   ]
  },
  {
   "cell_type": "code",
   "execution_count": 252,
   "metadata": {},
   "outputs": [
    {
     "data": {
      "text/html": [
       "<div>\n",
       "<table border=\"1\" class=\"dataframe\">\n",
       "  <thead>\n",
       "    <tr style=\"text-align: right;\">\n",
       "      <th></th>\n",
       "      <th>dmIndicator</th>\n",
       "      <th>Gender</th>\n",
       "      <th>BMI</th>\n",
       "      <th>SystolicBP</th>\n",
       "      <th>DiastolicBP</th>\n",
       "      <th>Age</th>\n",
       "    </tr>\n",
       "  </thead>\n",
       "  <tbody>\n",
       "    <tr>\n",
       "      <th>0</th>\n",
       "      <td>0</td>\n",
       "      <td>1</td>\n",
       "      <td>27.670</td>\n",
       "      <td>122.0</td>\n",
       "      <td>76.0</td>\n",
       "      <td>53</td>\n",
       "    </tr>\n",
       "    <tr>\n",
       "      <th>1</th>\n",
       "      <td>0</td>\n",
       "      <td>0</td>\n",
       "      <td>22.463</td>\n",
       "      <td>128.0</td>\n",
       "      <td>82.0</td>\n",
       "      <td>58</td>\n",
       "    </tr>\n",
       "    <tr>\n",
       "      <th>2</th>\n",
       "      <td>0</td>\n",
       "      <td>0</td>\n",
       "      <td>16.654</td>\n",
       "      <td>80.0</td>\n",
       "      <td>60.0</td>\n",
       "      <td>87</td>\n",
       "    </tr>\n",
       "    <tr>\n",
       "      <th>3</th>\n",
       "      <td>0</td>\n",
       "      <td>1</td>\n",
       "      <td>28.190</td>\n",
       "      <td>125.0</td>\n",
       "      <td>75.0</td>\n",
       "      <td>42</td>\n",
       "    </tr>\n",
       "    <tr>\n",
       "      <th>4</th>\n",
       "      <td>0</td>\n",
       "      <td>0</td>\n",
       "      <td>19.388</td>\n",
       "      <td>112.0</td>\n",
       "      <td>80.0</td>\n",
       "      <td>82</td>\n",
       "    </tr>\n",
       "  </tbody>\n",
       "</table>\n",
       "</div>"
      ],
      "text/plain": [
       "   dmIndicator Gender     BMI  SystolicBP  DiastolicBP  Age\n",
       "0            0      1  27.670       122.0         76.0   53\n",
       "1            0      0  22.463       128.0         82.0   58\n",
       "2            0      0  16.654        80.0         60.0   87\n",
       "3            0      1  28.190       125.0         75.0   42\n",
       "4            0      0  19.388       112.0         80.0   82"
      ]
     },
     "execution_count": 252,
     "metadata": {},
     "output_type": "execute_result"
    }
   ],
   "source": [
    "patientTranscripts = processPatientTranscripts(patientTranscripts)\n",
    "patientTranscripts.head()"
   ]
  },
  {
   "cell_type": "code",
   "execution_count": 253,
   "metadata": {},
   "outputs": [
    {
     "data": {
      "text/plain": [
       "array([[1, 27.67, 122.0, 76.0, 53],\n",
       "       [0, 22.463, 128.0, 82.0, 58],\n",
       "       [0, 16.654, 80.0, 60.0, 87],\n",
       "       ..., \n",
       "       [0, 37.454, 124.0, 72.0, 47],\n",
       "       [1, 28.749, 130.0, 79.0, 82],\n",
       "       [0, 26.153, 138.0, 84.0, 65]], dtype=object)"
      ]
     },
     "execution_count": 253,
     "metadata": {},
     "output_type": "execute_result"
    }
   ],
   "source": [
    "X = patientTranscripts.values[:, 1:6]\n",
    "y = patientTranscripts.values[:, 0]\n",
    "X"
   ]
  },
  {
   "cell_type": "code",
   "execution_count": 254,
   "metadata": {},
   "outputs": [
    {
     "data": {
      "text/plain": [
       "array([[0, 32.673, 188.0, 68.0, 81],\n",
       "       [1, 23.732, 102.0, 68.0, 62],\n",
       "       [0, 24.241, 120.0, 70.0, 67],\n",
       "       ..., \n",
       "       [1, 21.371, 160.0, 110.0, 47],\n",
       "       [1, 27.82, 133.0, 68.0, 80],\n",
       "       [0, 35.699, 120.0, 70.0, 42]], dtype=object)"
      ]
     },
     "execution_count": 254,
     "metadata": {},
     "output_type": "execute_result"
    }
   ],
   "source": [
    "train_X, test_X, train_y, test_y = train_test_split(X, y, train_size=0.77, random_state=seed)\n",
    "train_X"
   ]
  },
  {
   "cell_type": "code",
   "execution_count": 256,
   "metadata": {},
   "outputs": [
    {
     "name": "stdout",
     "output_type": "stream",
     "text": [
      "Accuracy = 0.81\n"
     ]
    }
   ],
   "source": [
    "model = Sequential()\n",
    "model.add(Dense(12, input_dim=5, activation='relu'))\n",
    "model.add(Dense(5, activation='relu'))\n",
    "model.add(Dense(1, activation='sigmoid'))\n",
    "\n",
    "model.compile(optimizer='adam', loss='binary_crossentropy', metrics=[\"accuracy\"])\n",
    "\n",
    "model.fit(train_X, train_y, epochs=100, batch_size=10, verbose=0);\n",
    "\n",
    "loss, accuracy = model.evaluate(test_X, test_y, verbose=0)\n",
    "print(\"Accuracy = {:.2f}\".format(accuracy))"
   ]
  }
 ],
 "metadata": {
  "kernelspec": {
   "display_name": "Python 3",
   "language": "python",
   "name": "python3"
  },
  "language_info": {
   "codemirror_mode": {
    "name": "ipython",
    "version": 3
   },
   "file_extension": ".py",
   "mimetype": "text/x-python",
   "name": "python",
   "nbconvert_exporter": "python",
   "pygments_lexer": "ipython3",
   "version": "3.6.3"
  }
 },
 "nbformat": 4,
 "nbformat_minor": 2
}
