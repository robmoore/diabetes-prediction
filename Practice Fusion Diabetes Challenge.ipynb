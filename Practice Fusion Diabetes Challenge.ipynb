{
 "cells": [
  {
   "cell_type": "code",
   "execution_count": 20,
   "metadata": {},
   "outputs": [],
   "source": [
    "import sqlite3\n",
    "import pandas as pd\n",
    "\n",
    "conn = sqlite3.connect('file:compData.db?mode=ro', uri=True)\n",
    "c = conn.cursor()"
   ]
  },
  {
   "cell_type": "code",
   "execution_count": 21,
   "metadata": {},
   "outputs": [
    {
     "data": {
      "text/html": [
       "<div>\n",
       "<table border=\"1\" class=\"dataframe\">\n",
       "  <thead>\n",
       "    <tr style=\"text-align: right;\">\n",
       "      <th></th>\n",
       "      <th>SmokingStatusGuid</th>\n",
       "      <th>Description</th>\n",
       "      <th>NISTcode</th>\n",
       "    </tr>\n",
       "  </thead>\n",
       "  <tbody>\n",
       "    <tr>\n",
       "      <th>0</th>\n",
       "      <td>E86CA3A8-E35B-4BBF-80E2-0375AB4A1460</td>\n",
       "      <td>Current status unknown</td>\n",
       "      <td>9</td>\n",
       "    </tr>\n",
       "    <tr>\n",
       "      <th>1</th>\n",
       "      <td>1F3BFBBF-AB76-481B-B1E0-08A3689A54BC</td>\n",
       "      <td>Not a current tobacco user</td>\n",
       "      <td>0</td>\n",
       "    </tr>\n",
       "    <tr>\n",
       "      <th>2</th>\n",
       "      <td>C12C2DB7-D31A-4514-88C0-42CBD339F764</td>\n",
       "      <td>0 cigarettes per day (previous smoker)</td>\n",
       "      <td>3</td>\n",
       "    </tr>\n",
       "    <tr>\n",
       "      <th>3</th>\n",
       "      <td>FA2B7AE4-4D14-4768-A8C7-55B5F0CDF4AF</td>\n",
       "      <td>Few (1-3) cigarettes per day</td>\n",
       "      <td>2</td>\n",
       "    </tr>\n",
       "    <tr>\n",
       "      <th>4</th>\n",
       "      <td>0815F240-3DD3-43C6-8618-613CA9E41F9F</td>\n",
       "      <td>Current status unknown</td>\n",
       "      <td>5</td>\n",
       "    </tr>\n",
       "  </tbody>\n",
       "</table>\n",
       "</div>"
      ],
      "text/plain": [
       "                      SmokingStatusGuid  \\\n",
       "0  E86CA3A8-E35B-4BBF-80E2-0375AB4A1460   \n",
       "1  1F3BFBBF-AB76-481B-B1E0-08A3689A54BC   \n",
       "2  C12C2DB7-D31A-4514-88C0-42CBD339F764   \n",
       "3  FA2B7AE4-4D14-4768-A8C7-55B5F0CDF4AF   \n",
       "4  0815F240-3DD3-43C6-8618-613CA9E41F9F   \n",
       "\n",
       "                              Description  NISTcode  \n",
       "0                  Current status unknown         9  \n",
       "1              Not a current tobacco user         0  \n",
       "2  0 cigarettes per day (previous smoker)         3  \n",
       "3            Few (1-3) cigarettes per day         2  \n",
       "4                  Current status unknown         5  "
      ]
     },
     "execution_count": 21,
     "metadata": {},
     "output_type": "execute_result"
    }
   ],
   "source": [
    "df = pd.read_sql_query(\"SELECT * FROM smokingStatus\", conn)\n",
    "df.head()\n"
   ]
  },
  {
   "cell_type": "code",
   "execution_count": 22,
   "metadata": {},
   "outputs": [],
   "source": [
    "conn.close()"
   ]
  }
 ],
 "metadata": {
  "kernelspec": {
   "display_name": "Python 3",
   "language": "python",
   "name": "python3"
  },
  "language_info": {
   "codemirror_mode": {
    "name": "ipython",
    "version": 3
   },
   "file_extension": ".py",
   "mimetype": "text/x-python",
   "name": "python",
   "nbconvert_exporter": "python",
   "pygments_lexer": "ipython3",
   "version": "3.6.3"
  }
 },
 "nbformat": 4,
 "nbformat_minor": 2
}
