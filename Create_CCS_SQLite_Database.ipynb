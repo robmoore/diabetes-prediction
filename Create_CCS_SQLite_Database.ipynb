{
  "nbformat": 4,
  "nbformat_minor": 0,
  "metadata": {
    "colab": {
      "name": "Create CCS SQLite Database.ipynb",
      "version": "0.3.2",
      "provenance": [],
      "collapsed_sections": [],
      "include_colab_link": true
    },
    "kernelspec": {
      "display_name": "Python 3",
      "language": "python",
      "name": "python3"
    }
  },
  "cells": [
    {
      "cell_type": "markdown",
      "metadata": {
        "id": "view-in-github",
        "colab_type": "text"
      },
      "source": [
        "[View in Colaboratory](https://colab.research.google.com/github/robmoore/diabetes-prediction/blob/master/Create_CCS_SQLite_Database.ipynb)"
      ]
    },
    {
      "metadata": {
        "id": "t_dF7P168Q9x",
        "colab_type": "code",
        "colab": {}
      },
      "cell_type": "code",
      "source": [
        "!apt install sqlite3 -q"
      ],
      "execution_count": 0,
      "outputs": []
    },
    {
      "metadata": {
        "id": "8no_X31BTrwa",
        "colab_type": "code",
        "colab": {}
      },
      "cell_type": "code",
      "source": [
        "csvfile = 'dxref_2015.csv'\n",
        "!curl -s 'http://www.nber.org/ahrq/ccs/2017/20170421/%24dxref%202015.csv' | tail -n +2 | sed \"s/'/\\\"/g\" > {csvfile}"
      ],
      "execution_count": 0,
      "outputs": []
    },
    {
      "metadata": {
        "id": "tL6_tKrJUG9y",
        "colab_type": "code",
        "colab": {}
      },
      "cell_type": "code",
      "source": [
        "import pandas as pd\n",
        "import sqlite3\n",
        "import numpy as np\n",
        "  \n",
        "from contextlib import closing\n",
        "\n",
        "# Data uploaded to Google Drive below. Assumes the existence of a folder named 'Diabetes-Prediction' in your Google Drive account.\n",
        "from google.colab import drive\n",
        "drive.mount('/content/gdrive')"
      ],
      "execution_count": 0,
      "outputs": []
    },
    {
      "metadata": {
        "id": "2PYvbmRu2_uq",
        "colab_type": "code",
        "colab": {}
      },
      "cell_type": "code",
      "source": [
        "!head {csvfile}"
      ],
      "execution_count": 0,
      "outputs": []
    },
    {
      "metadata": {
        "id": "xuAyKnvpUA7F",
        "colab_type": "code",
        "colab": {}
      },
      "cell_type": "code",
      "source": [
        "db_name = 'dxref_2015.db'\n",
        "table_name = 'dxref'\n",
        "\n",
        "df = pd.read_csv(csvfile)\n",
        "df.columns = df.columns.str.replace(' ', '_')\n",
        "df.columns = df.columns.str.replace('-', '_')\n",
        "df = df.applymap(lambda x: x.strip() if type(x) is str else x)\n",
        "df.replace('', np.NaN)  \n",
        "      \n",
        "with closing(sqlite3.connect('file:{}'.format(db_name), uri=True)) as conn:    \n",
        "  df.to_sql(table_name, conn, if_exists='replace', index=False)"
      ],
      "execution_count": 0,
      "outputs": []
    },
    {
      "metadata": {
        "id": "pAAktLew7Yk9",
        "colab_type": "code",
        "colab": {}
      },
      "cell_type": "code",
      "source": [
        "df.head()"
      ],
      "execution_count": 0,
      "outputs": []
    },
    {
      "metadata": {
        "id": "G_2YBSdNyy4N",
        "colab_type": "code",
        "colab": {}
      },
      "cell_type": "code",
      "source": [
        "groups = df.groupby(['CCS_CATEGORY'])['ICD_9_CM_CODE'].apply(list)\n",
        "groups.loc[49]"
      ],
      "execution_count": 0,
      "outputs": []
    },
    {
      "metadata": {
        "id": "c9bTZM7bW2hf",
        "colab_type": "code",
        "colab": {}
      },
      "cell_type": "code",
      "source": [
        "# See also: Screen DM -> V771, FHX -> V180, NEUROPATHY IN DIABETES -> 3572\n",
        "with closing(sqlite3.connect('file:{}?mode=ro'.format(db_name), uri=True)) as conn:    \n",
        "    dxref = pd.read_sql_query(\"\"\"\n",
        "    SELECT CCS_CATEGORY, ICD_9_CM_CODE\n",
        "    FROM {}\n",
        "    WHERE CCS_CATEGORY IN ('49', '50', '186')\n",
        "    GROUP BY ICD_9_CM_CODE\n",
        "    ORDER BY CCS_CATEGORY\n",
        "\"\"\".format(table_name), conn)\n",
        "dxref.head()"
      ],
      "execution_count": 0,
      "outputs": []
    },
    {
      "metadata": {
        "id": "_t80HYXpGary",
        "colab_type": "code",
        "colab": {}
      },
      "cell_type": "code",
      "source": [
        "!rm {csvfile}\n",
        "!cp {db_name} /content/gdrive/My\\ Drive/Diabetes-Prediction/"
      ],
      "execution_count": 0,
      "outputs": []
    }
  ]
}