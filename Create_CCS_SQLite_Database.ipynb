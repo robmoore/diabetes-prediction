{
  "nbformat": 4,
  "nbformat_minor": 0,
  "metadata": {
    "colab": {
      "name": "Create CCS SQLite Database.ipynb",
      "version": "0.3.2",
      "provenance": [],
      "collapsed_sections": [],
      "include_colab_link": true
    },
    "kernelspec": {
      "display_name": "Python 3",
      "language": "python",
      "name": "python3"
    }
  },
  "cells": [
    {
      "cell_type": "markdown",
      "metadata": {
        "id": "view-in-github",
        "colab_type": "text"
      },
      "source": [
        "[View in Colaboratory](https://colab.research.google.com/github/robmoore/diabetes-prediction/blob/master/Create_CCS_SQLite_Database.ipynb)"
      ]
    },
    {
      "metadata": {
        "id": "t_dF7P168Q9x",
        "colab_type": "code",
        "colab": {
          "base_uri": "https://localhost:8080/",
          "height": 102
        },
        "outputId": "8dbeedc9-a354-4877-aefc-4ac94c57bef3"
      },
      "cell_type": "code",
      "source": [
        "!apt install sqlite3 -q"
      ],
      "execution_count": 9,
      "outputs": [
        {
          "output_type": "stream",
          "text": [
            "Reading package lists...\n",
            "Building dependency tree...\n",
            "Reading state information...\n",
            "sqlite3 is already the newest version (3.19.3-3).\n",
            "0 upgraded, 0 newly installed, 0 to remove and 0 not upgraded.\n"
          ],
          "name": "stdout"
        }
      ]
    },
    {
      "metadata": {
        "id": "8no_X31BTrwa",
        "colab_type": "code",
        "colab": {}
      },
      "cell_type": "code",
      "source": [
        "csvfile = 'dxref_2015.csv'\n",
        "!curl -s 'http://www.nber.org/ahrq/ccs/2017/20170421/%24dxref%202015.csv' | tail -n +2 | sed \"s/'/\\\"/g\" > {csvfile}"
      ],
      "execution_count": 0,
      "outputs": []
    },
    {
      "metadata": {
        "id": "tL6_tKrJUG9y",
        "colab_type": "code",
        "colab": {}
      },
      "cell_type": "code",
      "source": [
        "import pandas as pd\n",
        "import sqlite3\n",
        "import numpy as np\n",
        "  \n",
        "from contextlib import closing\n",
        "\n",
        "# Data uploaded to Google Drive below. Assumes the existence of a folder named 'Diabetes-Prediction' in your Google Drive account.\n",
        "from google.colab import drive\n",
        "drive.mount('/content/gdrive')"
      ],
      "execution_count": 0,
      "outputs": []
    },
    {
      "metadata": {
        "id": "2PYvbmRu2_uq",
        "colab_type": "code",
        "colab": {
          "base_uri": "https://localhost:8080/",
          "height": 187
        },
        "outputId": "4c6f330b-7453-41c0-d943-2102904f209a"
      },
      "cell_type": "code",
      "source": [
        "!head {csvfile}"
      ],
      "execution_count": 3,
      "outputs": [
        {
          "output_type": "stream",
          "text": [
            "\"ICD-9-CM CODE\",\"CCS CATEGORY\",\"CCS CATEGORY DESCRIPTION\",\"ICD-9-CM CODE DESCRIPTION\",\"OPTIONAL CCS CATEGORY\",\"OPTIONAL CCS CATEGORY DESCRIPTION\"\r\n",
            "\"     \",\"0    \",\"No DX\",\"INVALID CODES IN USER DATA\",\" \",\" \"\r\n",
            "\"01000\",\"1    \",\"Tuberculosis\",\"PRIM TB COMPLEX-UNSPEC\",\" \",\" \"\r\n",
            "\"01001\",\"1    \",\"Tuberculosis\",\"PRIM TB COMPLEX-NO EXAM\",\" \",\" \"\r\n",
            "\"01002\",\"1    \",\"Tuberculosis\",\"PRIM TB COMPLEX-EXM UNKN\",\" \",\" \"\r\n",
            "\"01003\",\"1    \",\"Tuberculosis\",\"PRIM TB COMPLEX-MICRO DX\",\" \",\" \"\r\n",
            "\"01004\",\"1    \",\"Tuberculosis\",\"PRIM TB COMPLEX-CULT DX\",\" \",\" \"\r\n",
            "\"01005\",\"1    \",\"Tuberculosis\",\"PRIM TB COMPLEX-HISTO DX\",\" \",\" \"\r\n",
            "\"01006\",\"1    \",\"Tuberculosis\",\"PRIM TB COMPLEX-OTH TEST\",\" \",\" \"\r\n",
            "\"01010\",\"1    \",\"Tuberculosis\",\"PRIM TB PLEURISY-UNSPEC\",\" \",\" \"\r\n"
          ],
          "name": "stdout"
        }
      ]
    },
    {
      "metadata": {
        "id": "xuAyKnvpUA7F",
        "colab_type": "code",
        "colab": {}
      },
      "cell_type": "code",
      "source": [
        "db_name = 'dxref_2015.db'\n",
        "table_name = 'dxref'\n",
        "\n",
        "df = pd.read_csv(csvfile)\n",
        "df.columns = df.columns.str.replace(' ', '_')\n",
        "df.columns = df.columns.str.replace('-', '_')\n",
        "df = df.applymap(lambda x: x.strip() if type(x) is str else x)\n",
        "df.replace('', np.NaN)  \n",
        "      \n",
        "with closing(sqlite3.connect('file:{}'.format(db_name), uri=True)) as conn:    \n",
        "  df.to_sql(table_name, conn, if_exists='replace', index=False)"
      ],
      "execution_count": 0,
      "outputs": []
    },
    {
      "metadata": {
        "id": "pAAktLew7Yk9",
        "colab_type": "code",
        "colab": {
          "base_uri": "https://localhost:8080/",
          "height": 204
        },
        "outputId": "cc3b3073-9ea1-4de8-b3c9-01d774df701e"
      },
      "cell_type": "code",
      "source": [
        "df.head()"
      ],
      "execution_count": 5,
      "outputs": [
        {
          "output_type": "execute_result",
          "data": {
            "text/html": [
              "<div>\n",
              "<style scoped>\n",
              "    .dataframe tbody tr th:only-of-type {\n",
              "        vertical-align: middle;\n",
              "    }\n",
              "\n",
              "    .dataframe tbody tr th {\n",
              "        vertical-align: top;\n",
              "    }\n",
              "\n",
              "    .dataframe thead th {\n",
              "        text-align: right;\n",
              "    }\n",
              "</style>\n",
              "<table border=\"1\" class=\"dataframe\">\n",
              "  <thead>\n",
              "    <tr style=\"text-align: right;\">\n",
              "      <th></th>\n",
              "      <th>ICD_9_CM_CODE</th>\n",
              "      <th>CCS_CATEGORY</th>\n",
              "      <th>CCS_CATEGORY_DESCRIPTION</th>\n",
              "      <th>ICD_9_CM_CODE_DESCRIPTION</th>\n",
              "      <th>OPTIONAL_CCS_CATEGORY</th>\n",
              "      <th>OPTIONAL_CCS_CATEGORY_DESCRIPTION</th>\n",
              "    </tr>\n",
              "  </thead>\n",
              "  <tbody>\n",
              "    <tr>\n",
              "      <th>0</th>\n",
              "      <td></td>\n",
              "      <td>0</td>\n",
              "      <td>No DX</td>\n",
              "      <td>INVALID CODES IN USER DATA</td>\n",
              "      <td></td>\n",
              "      <td></td>\n",
              "    </tr>\n",
              "    <tr>\n",
              "      <th>1</th>\n",
              "      <td>01000</td>\n",
              "      <td>1</td>\n",
              "      <td>Tuberculosis</td>\n",
              "      <td>PRIM TB COMPLEX-UNSPEC</td>\n",
              "      <td></td>\n",
              "      <td></td>\n",
              "    </tr>\n",
              "    <tr>\n",
              "      <th>2</th>\n",
              "      <td>01001</td>\n",
              "      <td>1</td>\n",
              "      <td>Tuberculosis</td>\n",
              "      <td>PRIM TB COMPLEX-NO EXAM</td>\n",
              "      <td></td>\n",
              "      <td></td>\n",
              "    </tr>\n",
              "    <tr>\n",
              "      <th>3</th>\n",
              "      <td>01002</td>\n",
              "      <td>1</td>\n",
              "      <td>Tuberculosis</td>\n",
              "      <td>PRIM TB COMPLEX-EXM UNKN</td>\n",
              "      <td></td>\n",
              "      <td></td>\n",
              "    </tr>\n",
              "    <tr>\n",
              "      <th>4</th>\n",
              "      <td>01003</td>\n",
              "      <td>1</td>\n",
              "      <td>Tuberculosis</td>\n",
              "      <td>PRIM TB COMPLEX-MICRO DX</td>\n",
              "      <td></td>\n",
              "      <td></td>\n",
              "    </tr>\n",
              "  </tbody>\n",
              "</table>\n",
              "</div>"
            ],
            "text/plain": [
              "  ICD_9_CM_CODE  CCS_CATEGORY CCS_CATEGORY_DESCRIPTION  \\\n",
              "0                           0                    No DX   \n",
              "1         01000             1             Tuberculosis   \n",
              "2         01001             1             Tuberculosis   \n",
              "3         01002             1             Tuberculosis   \n",
              "4         01003             1             Tuberculosis   \n",
              "\n",
              "    ICD_9_CM_CODE_DESCRIPTION OPTIONAL_CCS_CATEGORY  \\\n",
              "0  INVALID CODES IN USER DATA                         \n",
              "1      PRIM TB COMPLEX-UNSPEC                         \n",
              "2     PRIM TB COMPLEX-NO EXAM                         \n",
              "3    PRIM TB COMPLEX-EXM UNKN                         \n",
              "4    PRIM TB COMPLEX-MICRO DX                         \n",
              "\n",
              "  OPTIONAL_CCS_CATEGORY_DESCRIPTION  \n",
              "0                                    \n",
              "1                                    \n",
              "2                                    \n",
              "3                                    \n",
              "4                                    "
            ]
          },
          "metadata": {
            "tags": []
          },
          "execution_count": 5
        }
      ]
    },
    {
      "metadata": {
        "id": "G_2YBSdNyy4N",
        "colab_type": "code",
        "colab": {
          "base_uri": "https://localhost:8080/",
          "height": 221
        },
        "outputId": "aeb66e2a-042e-41dd-f70d-d7ca5a857b75"
      },
      "cell_type": "code",
      "source": [
        "groups = df.groupby(['CCS_CATEGORY'])['ICD_9_CM_CODE'].apply(list)\n",
        "groups.loc[49]"
      ],
      "execution_count": 6,
      "outputs": [
        {
          "output_type": "execute_result",
          "data": {
            "text/plain": [
              "['24900',\n",
              " '25000',\n",
              " '25001',\n",
              " '7902',\n",
              " '79021',\n",
              " '79022',\n",
              " '79029',\n",
              " '7915',\n",
              " '7916',\n",
              " 'V4585',\n",
              " 'V5391',\n",
              " 'V6546']"
            ]
          },
          "metadata": {
            "tags": []
          },
          "execution_count": 6
        }
      ]
    },
    {
      "metadata": {
        "id": "c9bTZM7bW2hf",
        "colab_type": "code",
        "colab": {
          "base_uri": "https://localhost:8080/",
          "height": 204
        },
        "outputId": "a4656d00-f431-485f-c3b1-e2319f68765d"
      },
      "cell_type": "code",
      "source": [
        "# See also: Screen DM -> V771, FHX -> V180, NEUROPATHY IN DIABETES -> 3572\n",
        "with closing(sqlite3.connect('file:{}?mode=ro'.format(db_name), uri=True)) as conn:    \n",
        "    dxref = pd.read_sql_query(\"\"\"\n",
        "    SELECT CCS_CATEGORY, ICD_9_CM_CODE\n",
        "    FROM {}\n",
        "    WHERE CCS_CATEGORY IN ('49', '50', '186')\n",
        "    GROUP BY ICD_9_CM_CODE\n",
        "    ORDER BY CCS_CATEGORY\n",
        "\"\"\".format(table_name), conn)\n",
        "dxref.head()"
      ],
      "execution_count": 7,
      "outputs": [
        {
          "output_type": "execute_result",
          "data": {
            "text/html": [
              "<div>\n",
              "<style scoped>\n",
              "    .dataframe tbody tr th:only-of-type {\n",
              "        vertical-align: middle;\n",
              "    }\n",
              "\n",
              "    .dataframe tbody tr th {\n",
              "        vertical-align: top;\n",
              "    }\n",
              "\n",
              "    .dataframe thead th {\n",
              "        text-align: right;\n",
              "    }\n",
              "</style>\n",
              "<table border=\"1\" class=\"dataframe\">\n",
              "  <thead>\n",
              "    <tr style=\"text-align: right;\">\n",
              "      <th></th>\n",
              "      <th>CCS_CATEGORY</th>\n",
              "      <th>ICD_9_CM_CODE</th>\n",
              "    </tr>\n",
              "  </thead>\n",
              "  <tbody>\n",
              "    <tr>\n",
              "      <th>0</th>\n",
              "      <td>49</td>\n",
              "      <td>24900</td>\n",
              "    </tr>\n",
              "    <tr>\n",
              "      <th>1</th>\n",
              "      <td>49</td>\n",
              "      <td>25000</td>\n",
              "    </tr>\n",
              "    <tr>\n",
              "      <th>2</th>\n",
              "      <td>49</td>\n",
              "      <td>25001</td>\n",
              "    </tr>\n",
              "    <tr>\n",
              "      <th>3</th>\n",
              "      <td>49</td>\n",
              "      <td>7902</td>\n",
              "    </tr>\n",
              "    <tr>\n",
              "      <th>4</th>\n",
              "      <td>49</td>\n",
              "      <td>79021</td>\n",
              "    </tr>\n",
              "  </tbody>\n",
              "</table>\n",
              "</div>"
            ],
            "text/plain": [
              "   CCS_CATEGORY ICD_9_CM_CODE\n",
              "0            49         24900\n",
              "1            49         25000\n",
              "2            49         25001\n",
              "3            49          7902\n",
              "4            49         79021"
            ]
          },
          "metadata": {
            "tags": []
          },
          "execution_count": 7
        }
      ]
    },
    {
      "metadata": {
        "id": "_t80HYXpGary",
        "colab_type": "code",
        "colab": {
          "base_uri": "https://localhost:8080/",
          "height": 34
        },
        "outputId": "d0984894-d3ca-4927-e491-4318222cd085"
      },
      "cell_type": "code",
      "source": [
        "!rm {csvfile}\n",
        "!cp {db_name} /content/gdrive/My\\ Drive/Diabetes-Prediction/"
      ],
      "execution_count": 10,
      "outputs": [
        {
          "output_type": "stream",
          "text": [
            "rm: cannot remove 'dxref_2015.csv': No such file or directory\n"
          ],
          "name": "stdout"
        }
      ]
    }
  ]
}